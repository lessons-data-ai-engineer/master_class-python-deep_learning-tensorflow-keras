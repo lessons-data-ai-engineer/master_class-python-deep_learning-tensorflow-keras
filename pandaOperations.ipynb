{
 "cells": [
  {
   "cell_type": "code",
   "execution_count": 1,
   "id": "initial_id",
   "metadata": {
    "collapsed": true,
    "ExecuteTime": {
     "end_time": "2023-09-12T13:41:05.862856600Z",
     "start_time": "2023-09-12T13:41:05.315364900Z"
    }
   },
   "outputs": [],
   "source": [
    "import pandas as pd\n",
    "\n",
    "df_one = pd.DataFrame({'k1':['A','A','B','B','C','C'],\n",
    "                       'col1':[100,200,300,300,400,500],\n",
    "                       'col2':['NY','CA','WA','WA','AK','NV']})"
   ]
  },
  {
   "cell_type": "code",
   "execution_count": 2,
   "outputs": [
    {
     "data": {
      "text/plain": "  k1  col1 col2\n0  A   100   NY\n1  A   200   CA\n2  B   300   WA\n3  B   300   WA\n4  C   400   AK\n5  C   500   NV",
      "text/html": "<div>\n<style scoped>\n    .dataframe tbody tr th:only-of-type {\n        vertical-align: middle;\n    }\n\n    .dataframe tbody tr th {\n        vertical-align: top;\n    }\n\n    .dataframe thead th {\n        text-align: right;\n    }\n</style>\n<table border=\"1\" class=\"dataframe\">\n  <thead>\n    <tr style=\"text-align: right;\">\n      <th></th>\n      <th>k1</th>\n      <th>col1</th>\n      <th>col2</th>\n    </tr>\n  </thead>\n  <tbody>\n    <tr>\n      <th>0</th>\n      <td>A</td>\n      <td>100</td>\n      <td>NY</td>\n    </tr>\n    <tr>\n      <th>1</th>\n      <td>A</td>\n      <td>200</td>\n      <td>CA</td>\n    </tr>\n    <tr>\n      <th>2</th>\n      <td>B</td>\n      <td>300</td>\n      <td>WA</td>\n    </tr>\n    <tr>\n      <th>3</th>\n      <td>B</td>\n      <td>300</td>\n      <td>WA</td>\n    </tr>\n    <tr>\n      <th>4</th>\n      <td>C</td>\n      <td>400</td>\n      <td>AK</td>\n    </tr>\n    <tr>\n      <th>5</th>\n      <td>C</td>\n      <td>500</td>\n      <td>NV</td>\n    </tr>\n  </tbody>\n</table>\n</div>"
     },
     "execution_count": 2,
     "metadata": {},
     "output_type": "execute_result"
    }
   ],
   "source": [
    "df_one"
   ],
   "metadata": {
    "collapsed": false,
    "ExecuteTime": {
     "end_time": "2023-09-12T13:41:16.687244400Z",
     "start_time": "2023-09-12T13:41:16.668117400Z"
    }
   },
   "id": "2724b20e23c5b12f"
  },
  {
   "cell_type": "code",
   "execution_count": 3,
   "outputs": [
    {
     "data": {
      "text/plain": "array(['NY', 'CA', 'WA', 'AK', 'NV'], dtype=object)"
     },
     "execution_count": 3,
     "metadata": {},
     "output_type": "execute_result"
    }
   ],
   "source": [
    "df_one['col2'].unique()"
   ],
   "metadata": {
    "collapsed": false,
    "ExecuteTime": {
     "end_time": "2023-09-12T13:42:12.326121500Z",
     "start_time": "2023-09-12T13:42:12.306770300Z"
    }
   },
   "id": "fed2fd040362ad1c"
  },
  {
   "cell_type": "code",
   "execution_count": 4,
   "outputs": [
    {
     "data": {
      "text/plain": "array(['A', 'B', 'C'], dtype=object)"
     },
     "execution_count": 4,
     "metadata": {},
     "output_type": "execute_result"
    }
   ],
   "source": [
    "df_one['k1'].unique()"
   ],
   "metadata": {
    "collapsed": false,
    "ExecuteTime": {
     "end_time": "2023-09-12T13:42:27.108121100Z",
     "start_time": "2023-09-12T13:42:27.074567900Z"
    }
   },
   "id": "5bc1d59882241c17"
  },
  {
   "cell_type": "code",
   "execution_count": 5,
   "outputs": [
    {
     "data": {
      "text/plain": "3"
     },
     "execution_count": 5,
     "metadata": {},
     "output_type": "execute_result"
    }
   ],
   "source": [
    "df_one['k1'].nunique()"
   ],
   "metadata": {
    "collapsed": false,
    "ExecuteTime": {
     "end_time": "2023-09-12T13:42:43.447557200Z",
     "start_time": "2023-09-12T13:42:43.427508300Z"
    }
   },
   "id": "2797d0f4d46e7aec"
  },
  {
   "cell_type": "code",
   "execution_count": 6,
   "outputs": [
    {
     "data": {
      "text/plain": "WA    2\nNY    1\nCA    1\nAK    1\nNV    1\nName: col2, dtype: int64"
     },
     "execution_count": 6,
     "metadata": {},
     "output_type": "execute_result"
    }
   ],
   "source": [
    "df_one['col2'].value_counts()"
   ],
   "metadata": {
    "collapsed": false,
    "ExecuteTime": {
     "end_time": "2023-09-12T13:43:14.839379500Z",
     "start_time": "2023-09-12T13:43:14.818350400Z"
    }
   },
   "id": "42cc63eb2bd90cfd"
  },
  {
   "cell_type": "code",
   "execution_count": 7,
   "outputs": [
    {
     "data": {
      "text/plain": "  k1  col1 col2\n0  A   100   NY\n1  A   200   CA\n2  B   300   WA\n4  C   400   AK\n5  C   500   NV",
      "text/html": "<div>\n<style scoped>\n    .dataframe tbody tr th:only-of-type {\n        vertical-align: middle;\n    }\n\n    .dataframe tbody tr th {\n        vertical-align: top;\n    }\n\n    .dataframe thead th {\n        text-align: right;\n    }\n</style>\n<table border=\"1\" class=\"dataframe\">\n  <thead>\n    <tr style=\"text-align: right;\">\n      <th></th>\n      <th>k1</th>\n      <th>col1</th>\n      <th>col2</th>\n    </tr>\n  </thead>\n  <tbody>\n    <tr>\n      <th>0</th>\n      <td>A</td>\n      <td>100</td>\n      <td>NY</td>\n    </tr>\n    <tr>\n      <th>1</th>\n      <td>A</td>\n      <td>200</td>\n      <td>CA</td>\n    </tr>\n    <tr>\n      <th>2</th>\n      <td>B</td>\n      <td>300</td>\n      <td>WA</td>\n    </tr>\n    <tr>\n      <th>4</th>\n      <td>C</td>\n      <td>400</td>\n      <td>AK</td>\n    </tr>\n    <tr>\n      <th>5</th>\n      <td>C</td>\n      <td>500</td>\n      <td>NV</td>\n    </tr>\n  </tbody>\n</table>\n</div>"
     },
     "execution_count": 7,
     "metadata": {},
     "output_type": "execute_result"
    }
   ],
   "source": [
    "df_one.drop_duplicates()"
   ],
   "metadata": {
    "collapsed": false,
    "ExecuteTime": {
     "end_time": "2023-09-12T13:43:25.064584700Z",
     "start_time": "2023-09-12T13:43:25.041933300Z"
    }
   },
   "id": "220c69efc988d288"
  },
  {
   "cell_type": "code",
   "execution_count": 8,
   "outputs": [],
   "source": [
    "df_one['NEW'] = df_one['col1'] * 10"
   ],
   "metadata": {
    "collapsed": false,
    "ExecuteTime": {
     "end_time": "2023-09-12T13:43:59.840372Z",
     "start_time": "2023-09-12T13:43:59.817531500Z"
    }
   },
   "id": "64479d9f062eb197"
  },
  {
   "cell_type": "code",
   "execution_count": 9,
   "outputs": [
    {
     "data": {
      "text/plain": "  k1  col1 col2   NEW\n0  A   100   NY  1000\n1  A   200   CA  2000\n2  B   300   WA  3000\n3  B   300   WA  3000\n4  C   400   AK  4000\n5  C   500   NV  5000",
      "text/html": "<div>\n<style scoped>\n    .dataframe tbody tr th:only-of-type {\n        vertical-align: middle;\n    }\n\n    .dataframe tbody tr th {\n        vertical-align: top;\n    }\n\n    .dataframe thead th {\n        text-align: right;\n    }\n</style>\n<table border=\"1\" class=\"dataframe\">\n  <thead>\n    <tr style=\"text-align: right;\">\n      <th></th>\n      <th>k1</th>\n      <th>col1</th>\n      <th>col2</th>\n      <th>NEW</th>\n    </tr>\n  </thead>\n  <tbody>\n    <tr>\n      <th>0</th>\n      <td>A</td>\n      <td>100</td>\n      <td>NY</td>\n      <td>1000</td>\n    </tr>\n    <tr>\n      <th>1</th>\n      <td>A</td>\n      <td>200</td>\n      <td>CA</td>\n      <td>2000</td>\n    </tr>\n    <tr>\n      <th>2</th>\n      <td>B</td>\n      <td>300</td>\n      <td>WA</td>\n      <td>3000</td>\n    </tr>\n    <tr>\n      <th>3</th>\n      <td>B</td>\n      <td>300</td>\n      <td>WA</td>\n      <td>3000</td>\n    </tr>\n    <tr>\n      <th>4</th>\n      <td>C</td>\n      <td>400</td>\n      <td>AK</td>\n      <td>4000</td>\n    </tr>\n    <tr>\n      <th>5</th>\n      <td>C</td>\n      <td>500</td>\n      <td>NV</td>\n      <td>5000</td>\n    </tr>\n  </tbody>\n</table>\n</div>"
     },
     "execution_count": 9,
     "metadata": {},
     "output_type": "execute_result"
    }
   ],
   "source": [
    "df_one"
   ],
   "metadata": {
    "collapsed": false,
    "ExecuteTime": {
     "end_time": "2023-09-12T13:44:04.368098100Z",
     "start_time": "2023-09-12T13:44:04.345252400Z"
    }
   },
   "id": "bdfd724bd98015b4"
  },
  {
   "cell_type": "code",
   "execution_count": 10,
   "outputs": [],
   "source": [
    "def grab_first_letter(state):\n",
    "    return state[0]"
   ],
   "metadata": {
    "collapsed": false,
    "ExecuteTime": {
     "end_time": "2023-09-12T13:45:00.802134500Z",
     "start_time": "2023-09-12T13:45:00.778828800Z"
    }
   },
   "id": "8f670b5978841e45"
  },
  {
   "cell_type": "code",
   "execution_count": 11,
   "outputs": [
    {
     "data": {
      "text/plain": "'N'"
     },
     "execution_count": 11,
     "metadata": {},
     "output_type": "execute_result"
    }
   ],
   "source": [
    "grab_first_letter('NY')"
   ],
   "metadata": {
    "collapsed": false,
    "ExecuteTime": {
     "end_time": "2023-09-12T13:45:09.648090100Z",
     "start_time": "2023-09-12T13:45:09.620356200Z"
    }
   },
   "id": "314b35628b979269"
  },
  {
   "cell_type": "code",
   "execution_count": 12,
   "outputs": [
    {
     "data": {
      "text/plain": "0    N\n1    C\n2    W\n3    W\n4    A\n5    N\nName: col2, dtype: object"
     },
     "execution_count": 12,
     "metadata": {},
     "output_type": "execute_result"
    }
   ],
   "source": [
    "df_one['col2'].apply(grab_first_letter)"
   ],
   "metadata": {
    "collapsed": false,
    "ExecuteTime": {
     "end_time": "2023-09-12T13:45:46.667842600Z",
     "start_time": "2023-09-12T13:45:46.650818800Z"
    }
   },
   "id": "762187ae81e4084a"
  },
  {
   "cell_type": "code",
   "execution_count": 13,
   "outputs": [],
   "source": [
    "df_one['first_letter'] = df_one['col2'].apply(grab_first_letter)"
   ],
   "metadata": {
    "collapsed": false,
    "ExecuteTime": {
     "end_time": "2023-09-12T13:46:25.683622800Z",
     "start_time": "2023-09-12T13:46:25.659751200Z"
    }
   },
   "id": "7ef4797eb1625f56"
  },
  {
   "cell_type": "code",
   "execution_count": 14,
   "outputs": [
    {
     "data": {
      "text/plain": "  k1  col1 col2   NEW first_letter\n0  A   100   NY  1000            N\n1  A   200   CA  2000            C\n2  B   300   WA  3000            W\n3  B   300   WA  3000            W\n4  C   400   AK  4000            A\n5  C   500   NV  5000            N",
      "text/html": "<div>\n<style scoped>\n    .dataframe tbody tr th:only-of-type {\n        vertical-align: middle;\n    }\n\n    .dataframe tbody tr th {\n        vertical-align: top;\n    }\n\n    .dataframe thead th {\n        text-align: right;\n    }\n</style>\n<table border=\"1\" class=\"dataframe\">\n  <thead>\n    <tr style=\"text-align: right;\">\n      <th></th>\n      <th>k1</th>\n      <th>col1</th>\n      <th>col2</th>\n      <th>NEW</th>\n      <th>first_letter</th>\n    </tr>\n  </thead>\n  <tbody>\n    <tr>\n      <th>0</th>\n      <td>A</td>\n      <td>100</td>\n      <td>NY</td>\n      <td>1000</td>\n      <td>N</td>\n    </tr>\n    <tr>\n      <th>1</th>\n      <td>A</td>\n      <td>200</td>\n      <td>CA</td>\n      <td>2000</td>\n      <td>C</td>\n    </tr>\n    <tr>\n      <th>2</th>\n      <td>B</td>\n      <td>300</td>\n      <td>WA</td>\n      <td>3000</td>\n      <td>W</td>\n    </tr>\n    <tr>\n      <th>3</th>\n      <td>B</td>\n      <td>300</td>\n      <td>WA</td>\n      <td>3000</td>\n      <td>W</td>\n    </tr>\n    <tr>\n      <th>4</th>\n      <td>C</td>\n      <td>400</td>\n      <td>AK</td>\n      <td>4000</td>\n      <td>A</td>\n    </tr>\n    <tr>\n      <th>5</th>\n      <td>C</td>\n      <td>500</td>\n      <td>NV</td>\n      <td>5000</td>\n      <td>N</td>\n    </tr>\n  </tbody>\n</table>\n</div>"
     },
     "execution_count": 14,
     "metadata": {},
     "output_type": "execute_result"
    }
   ],
   "source": [
    "df_one"
   ],
   "metadata": {
    "collapsed": false,
    "ExecuteTime": {
     "end_time": "2023-09-12T13:46:27.858347700Z",
     "start_time": "2023-09-12T13:46:27.819690600Z"
    }
   },
   "id": "81f19f6831f4ca4b"
  },
  {
   "cell_type": "code",
   "execution_count": 15,
   "outputs": [],
   "source": [
    "def complex_letter(state):\n",
    "    if state[0] == 'W':\n",
    "        return 'Washington'\n",
    "    else:\n",
    "        return 'Error'"
   ],
   "metadata": {
    "collapsed": false,
    "ExecuteTime": {
     "end_time": "2023-09-12T13:47:21.986303Z",
     "start_time": "2023-09-12T13:47:21.955517200Z"
    }
   },
   "id": "cbf507f11abad780"
  },
  {
   "cell_type": "code",
   "execution_count": 16,
   "outputs": [
    {
     "data": {
      "text/plain": "0         Error\n1         Error\n2    Washington\n3    Washington\n4         Error\n5         Error\nName: col2, dtype: object"
     },
     "execution_count": 16,
     "metadata": {},
     "output_type": "execute_result"
    }
   ],
   "source": [
    "df_one['col2'].apply(complex_letter)"
   ],
   "metadata": {
    "collapsed": false,
    "ExecuteTime": {
     "end_time": "2023-09-12T13:47:37.923663900Z",
     "start_time": "2023-09-12T13:47:37.899037900Z"
    }
   },
   "id": "93a959e07131c3d5"
  },
  {
   "cell_type": "code",
   "execution_count": 17,
   "outputs": [
    {
     "data": {
      "text/plain": "0    A\n1    A\n2    B\n3    B\n4    C\n5    C\nName: k1, dtype: object"
     },
     "execution_count": 17,
     "metadata": {},
     "output_type": "execute_result"
    }
   ],
   "source": [
    "df_one['k1']"
   ],
   "metadata": {
    "collapsed": false,
    "ExecuteTime": {
     "end_time": "2023-09-12T13:48:53.613913500Z",
     "start_time": "2023-09-12T13:48:53.587688300Z"
    }
   },
   "id": "7cfc85e367eec612"
  },
  {
   "cell_type": "code",
   "execution_count": 18,
   "outputs": [],
   "source": [
    "my_map = {'A': 1, 'B': 2, 'C': 3}"
   ],
   "metadata": {
    "collapsed": false,
    "ExecuteTime": {
     "end_time": "2023-09-12T13:49:28.188025800Z",
     "start_time": "2023-09-12T13:49:28.163854100Z"
    }
   },
   "id": "485b1db217146a13"
  },
  {
   "cell_type": "code",
   "execution_count": 19,
   "outputs": [
    {
     "data": {
      "text/plain": "0    1\n1    1\n2    2\n3    2\n4    3\n5    3\nName: k1, dtype: int64"
     },
     "execution_count": 19,
     "metadata": {},
     "output_type": "execute_result"
    }
   ],
   "source": [
    "df_one['k1'].map(my_map)"
   ],
   "metadata": {
    "collapsed": false,
    "ExecuteTime": {
     "end_time": "2023-09-12T13:49:39.112039Z",
     "start_time": "2023-09-12T13:49:39.083921200Z"
    }
   },
   "id": "9b2c6dadf24c0943"
  },
  {
   "cell_type": "code",
   "execution_count": 20,
   "outputs": [],
   "source": [
    "df_one['num'] = df_one['k1'].map(my_map)"
   ],
   "metadata": {
    "collapsed": false,
    "ExecuteTime": {
     "end_time": "2023-09-12T13:50:03.447765400Z",
     "start_time": "2023-09-12T13:50:03.427152600Z"
    }
   },
   "id": "4f297fa022d37fb8"
  },
  {
   "cell_type": "code",
   "execution_count": 22,
   "outputs": [
    {
     "data": {
      "text/plain": "  k1  col1 col2   NEW first_letter  num\n0  A   100   NY  1000            N    1\n1  A   200   CA  2000            C    1\n2  B   300   WA  3000            W    2\n3  B   300   WA  3000            W    2\n4  C   400   AK  4000            A    3\n5  C   500   NV  5000            N    3",
      "text/html": "<div>\n<style scoped>\n    .dataframe tbody tr th:only-of-type {\n        vertical-align: middle;\n    }\n\n    .dataframe tbody tr th {\n        vertical-align: top;\n    }\n\n    .dataframe thead th {\n        text-align: right;\n    }\n</style>\n<table border=\"1\" class=\"dataframe\">\n  <thead>\n    <tr style=\"text-align: right;\">\n      <th></th>\n      <th>k1</th>\n      <th>col1</th>\n      <th>col2</th>\n      <th>NEW</th>\n      <th>first_letter</th>\n      <th>num</th>\n    </tr>\n  </thead>\n  <tbody>\n    <tr>\n      <th>0</th>\n      <td>A</td>\n      <td>100</td>\n      <td>NY</td>\n      <td>1000</td>\n      <td>N</td>\n      <td>1</td>\n    </tr>\n    <tr>\n      <th>1</th>\n      <td>A</td>\n      <td>200</td>\n      <td>CA</td>\n      <td>2000</td>\n      <td>C</td>\n      <td>1</td>\n    </tr>\n    <tr>\n      <th>2</th>\n      <td>B</td>\n      <td>300</td>\n      <td>WA</td>\n      <td>3000</td>\n      <td>W</td>\n      <td>2</td>\n    </tr>\n    <tr>\n      <th>3</th>\n      <td>B</td>\n      <td>300</td>\n      <td>WA</td>\n      <td>3000</td>\n      <td>W</td>\n      <td>2</td>\n    </tr>\n    <tr>\n      <th>4</th>\n      <td>C</td>\n      <td>400</td>\n      <td>AK</td>\n      <td>4000</td>\n      <td>A</td>\n      <td>3</td>\n    </tr>\n    <tr>\n      <th>5</th>\n      <td>C</td>\n      <td>500</td>\n      <td>NV</td>\n      <td>5000</td>\n      <td>N</td>\n      <td>3</td>\n    </tr>\n  </tbody>\n</table>\n</div>"
     },
     "execution_count": 22,
     "metadata": {},
     "output_type": "execute_result"
    }
   ],
   "source": [
    "df_one"
   ],
   "metadata": {
    "collapsed": false,
    "ExecuteTime": {
     "end_time": "2023-09-12T13:50:08.417139800Z",
     "start_time": "2023-09-12T13:50:08.394123Z"
    }
   },
   "id": "c406f69ab67a5a6b"
  },
  {
   "cell_type": "markdown",
   "source": [
    "Max/Min"
   ],
   "metadata": {
    "collapsed": false
   },
   "id": "67fcfd5c3554cfce"
  },
  {
   "cell_type": "code",
   "execution_count": 27,
   "outputs": [
    {
     "data": {
      "text/plain": "500"
     },
     "execution_count": 27,
     "metadata": {},
     "output_type": "execute_result"
    }
   ],
   "source": [
    "df_one['col1'].max()"
   ],
   "metadata": {
    "collapsed": false,
    "ExecuteTime": {
     "end_time": "2023-09-12T13:52:08.639220100Z",
     "start_time": "2023-09-12T13:52:08.628167800Z"
    }
   },
   "id": "cf1ba7f311457e9e"
  },
  {
   "cell_type": "code",
   "execution_count": 28,
   "outputs": [
    {
     "data": {
      "text/plain": "100"
     },
     "execution_count": 28,
     "metadata": {},
     "output_type": "execute_result"
    }
   ],
   "source": [
    "df_one['col1'].min()"
   ],
   "metadata": {
    "collapsed": false,
    "ExecuteTime": {
     "end_time": "2023-09-12T13:52:15.651504200Z",
     "start_time": "2023-09-12T13:52:15.634474300Z"
    }
   },
   "id": "25917afca5a65384"
  },
  {
   "cell_type": "markdown",
   "source": [
    "Index de max/min"
   ],
   "metadata": {
    "collapsed": false
   },
   "id": "32b66ab2af55b661"
  },
  {
   "cell_type": "code",
   "execution_count": 24,
   "outputs": [
    {
     "data": {
      "text/plain": "5"
     },
     "execution_count": 24,
     "metadata": {},
     "output_type": "execute_result"
    }
   ],
   "source": [
    "df_one['col1'].idxmax()"
   ],
   "metadata": {
    "collapsed": false,
    "ExecuteTime": {
     "end_time": "2023-09-12T13:51:09.870427Z",
     "start_time": "2023-09-12T13:51:09.843282100Z"
    }
   },
   "id": "213143f2e0ca81a6"
  },
  {
   "cell_type": "code",
   "execution_count": 30,
   "outputs": [
    {
     "data": {
      "text/plain": "0"
     },
     "execution_count": 30,
     "metadata": {},
     "output_type": "execute_result"
    }
   ],
   "source": [
    "df_one['col1'].idxmin()"
   ],
   "metadata": {
    "collapsed": false,
    "ExecuteTime": {
     "end_time": "2023-09-12T13:52:36.104723Z",
     "start_time": "2023-09-12T13:52:36.092213900Z"
    }
   },
   "id": "658e591f826150f8"
  },
  {
   "cell_type": "code",
   "execution_count": 31,
   "outputs": [],
   "source": [
    "df_one.columns = ['C1', 'C2', 'C3', 'C4', 'C5', 'C6']"
   ],
   "metadata": {
    "collapsed": false,
    "ExecuteTime": {
     "end_time": "2023-09-12T13:53:13.941598Z",
     "start_time": "2023-09-12T13:53:13.915992Z"
    }
   },
   "id": "6eb693c422d08cea"
  },
  {
   "cell_type": "code",
   "execution_count": 32,
   "outputs": [
    {
     "data": {
      "text/plain": "  C1   C2  C3    C4 C5  C6\n0  A  100  NY  1000  N   1\n1  A  200  CA  2000  C   1\n2  B  300  WA  3000  W   2\n3  B  300  WA  3000  W   2\n4  C  400  AK  4000  A   3\n5  C  500  NV  5000  N   3",
      "text/html": "<div>\n<style scoped>\n    .dataframe tbody tr th:only-of-type {\n        vertical-align: middle;\n    }\n\n    .dataframe tbody tr th {\n        vertical-align: top;\n    }\n\n    .dataframe thead th {\n        text-align: right;\n    }\n</style>\n<table border=\"1\" class=\"dataframe\">\n  <thead>\n    <tr style=\"text-align: right;\">\n      <th></th>\n      <th>C1</th>\n      <th>C2</th>\n      <th>C3</th>\n      <th>C4</th>\n      <th>C5</th>\n      <th>C6</th>\n    </tr>\n  </thead>\n  <tbody>\n    <tr>\n      <th>0</th>\n      <td>A</td>\n      <td>100</td>\n      <td>NY</td>\n      <td>1000</td>\n      <td>N</td>\n      <td>1</td>\n    </tr>\n    <tr>\n      <th>1</th>\n      <td>A</td>\n      <td>200</td>\n      <td>CA</td>\n      <td>2000</td>\n      <td>C</td>\n      <td>1</td>\n    </tr>\n    <tr>\n      <th>2</th>\n      <td>B</td>\n      <td>300</td>\n      <td>WA</td>\n      <td>3000</td>\n      <td>W</td>\n      <td>2</td>\n    </tr>\n    <tr>\n      <th>3</th>\n      <td>B</td>\n      <td>300</td>\n      <td>WA</td>\n      <td>3000</td>\n      <td>W</td>\n      <td>2</td>\n    </tr>\n    <tr>\n      <th>4</th>\n      <td>C</td>\n      <td>400</td>\n      <td>AK</td>\n      <td>4000</td>\n      <td>A</td>\n      <td>3</td>\n    </tr>\n    <tr>\n      <th>5</th>\n      <td>C</td>\n      <td>500</td>\n      <td>NV</td>\n      <td>5000</td>\n      <td>N</td>\n      <td>3</td>\n    </tr>\n  </tbody>\n</table>\n</div>"
     },
     "execution_count": 32,
     "metadata": {},
     "output_type": "execute_result"
    }
   ],
   "source": [
    "df_one"
   ],
   "metadata": {
    "collapsed": false,
    "ExecuteTime": {
     "end_time": "2023-09-12T13:53:15.376484400Z",
     "start_time": "2023-09-12T13:53:15.348447200Z"
    }
   },
   "id": "fe13548139599a71"
  },
  {
   "cell_type": "code",
   "execution_count": 33,
   "outputs": [
    {
     "data": {
      "text/plain": "  C1   C2  C3    C4 C5  C6\n4  C  400  AK  4000  A   3\n1  A  200  CA  2000  C   1\n5  C  500  NV  5000  N   3\n0  A  100  NY  1000  N   1\n2  B  300  WA  3000  W   2\n3  B  300  WA  3000  W   2",
      "text/html": "<div>\n<style scoped>\n    .dataframe tbody tr th:only-of-type {\n        vertical-align: middle;\n    }\n\n    .dataframe tbody tr th {\n        vertical-align: top;\n    }\n\n    .dataframe thead th {\n        text-align: right;\n    }\n</style>\n<table border=\"1\" class=\"dataframe\">\n  <thead>\n    <tr style=\"text-align: right;\">\n      <th></th>\n      <th>C1</th>\n      <th>C2</th>\n      <th>C3</th>\n      <th>C4</th>\n      <th>C5</th>\n      <th>C6</th>\n    </tr>\n  </thead>\n  <tbody>\n    <tr>\n      <th>4</th>\n      <td>C</td>\n      <td>400</td>\n      <td>AK</td>\n      <td>4000</td>\n      <td>A</td>\n      <td>3</td>\n    </tr>\n    <tr>\n      <th>1</th>\n      <td>A</td>\n      <td>200</td>\n      <td>CA</td>\n      <td>2000</td>\n      <td>C</td>\n      <td>1</td>\n    </tr>\n    <tr>\n      <th>5</th>\n      <td>C</td>\n      <td>500</td>\n      <td>NV</td>\n      <td>5000</td>\n      <td>N</td>\n      <td>3</td>\n    </tr>\n    <tr>\n      <th>0</th>\n      <td>A</td>\n      <td>100</td>\n      <td>NY</td>\n      <td>1000</td>\n      <td>N</td>\n      <td>1</td>\n    </tr>\n    <tr>\n      <th>2</th>\n      <td>B</td>\n      <td>300</td>\n      <td>WA</td>\n      <td>3000</td>\n      <td>W</td>\n      <td>2</td>\n    </tr>\n    <tr>\n      <th>3</th>\n      <td>B</td>\n      <td>300</td>\n      <td>WA</td>\n      <td>3000</td>\n      <td>W</td>\n      <td>2</td>\n    </tr>\n  </tbody>\n</table>\n</div>"
     },
     "execution_count": 33,
     "metadata": {},
     "output_type": "execute_result"
    }
   ],
   "source": [
    "df_one.sort_values('C3')"
   ],
   "metadata": {
    "collapsed": false,
    "ExecuteTime": {
     "end_time": "2023-09-12T13:53:35.617391800Z",
     "start_time": "2023-09-12T13:53:35.572015100Z"
    }
   },
   "id": "f29b62a840902749"
  },
  {
   "cell_type": "code",
   "execution_count": 34,
   "outputs": [
    {
     "data": {
      "text/plain": "  C1   C2  C3    C4 C5  C6\n2  B  300  WA  3000  W   2\n3  B  300  WA  3000  W   2\n0  A  100  NY  1000  N   1\n5  C  500  NV  5000  N   3\n1  A  200  CA  2000  C   1\n4  C  400  AK  4000  A   3",
      "text/html": "<div>\n<style scoped>\n    .dataframe tbody tr th:only-of-type {\n        vertical-align: middle;\n    }\n\n    .dataframe tbody tr th {\n        vertical-align: top;\n    }\n\n    .dataframe thead th {\n        text-align: right;\n    }\n</style>\n<table border=\"1\" class=\"dataframe\">\n  <thead>\n    <tr style=\"text-align: right;\">\n      <th></th>\n      <th>C1</th>\n      <th>C2</th>\n      <th>C3</th>\n      <th>C4</th>\n      <th>C5</th>\n      <th>C6</th>\n    </tr>\n  </thead>\n  <tbody>\n    <tr>\n      <th>2</th>\n      <td>B</td>\n      <td>300</td>\n      <td>WA</td>\n      <td>3000</td>\n      <td>W</td>\n      <td>2</td>\n    </tr>\n    <tr>\n      <th>3</th>\n      <td>B</td>\n      <td>300</td>\n      <td>WA</td>\n      <td>3000</td>\n      <td>W</td>\n      <td>2</td>\n    </tr>\n    <tr>\n      <th>0</th>\n      <td>A</td>\n      <td>100</td>\n      <td>NY</td>\n      <td>1000</td>\n      <td>N</td>\n      <td>1</td>\n    </tr>\n    <tr>\n      <th>5</th>\n      <td>C</td>\n      <td>500</td>\n      <td>NV</td>\n      <td>5000</td>\n      <td>N</td>\n      <td>3</td>\n    </tr>\n    <tr>\n      <th>1</th>\n      <td>A</td>\n      <td>200</td>\n      <td>CA</td>\n      <td>2000</td>\n      <td>C</td>\n      <td>1</td>\n    </tr>\n    <tr>\n      <th>4</th>\n      <td>C</td>\n      <td>400</td>\n      <td>AK</td>\n      <td>4000</td>\n      <td>A</td>\n      <td>3</td>\n    </tr>\n  </tbody>\n</table>\n</div>"
     },
     "execution_count": 34,
     "metadata": {},
     "output_type": "execute_result"
    }
   ],
   "source": [
    "df_one.sort_values('C3', ascending=False)"
   ],
   "metadata": {
    "collapsed": false,
    "ExecuteTime": {
     "end_time": "2023-09-12T13:54:05.621805200Z",
     "start_time": "2023-09-12T13:54:05.574556500Z"
    }
   },
   "id": "28d8739656b3e84a"
  },
  {
   "cell_type": "code",
   "execution_count": 35,
   "outputs": [],
   "source": [
    "features = pd.DataFrame({'A':[100,200,300,400,500],\n",
    "                         'B':[12,13,14,15,16]})\n",
    "\n",
    "predictions = pd.DataFrame({'pred':[0,1,1,0,1]})"
   ],
   "metadata": {
    "collapsed": false,
    "ExecuteTime": {
     "end_time": "2023-09-12T13:55:23.082614200Z",
     "start_time": "2023-09-12T13:55:23.037135300Z"
    }
   },
   "id": "c18072abd3ff8ff"
  },
  {
   "cell_type": "code",
   "execution_count": 36,
   "outputs": [
    {
     "data": {
      "text/plain": "   pred\n0     0\n1     1\n2     1\n3     0\n4     1",
      "text/html": "<div>\n<style scoped>\n    .dataframe tbody tr th:only-of-type {\n        vertical-align: middle;\n    }\n\n    .dataframe tbody tr th {\n        vertical-align: top;\n    }\n\n    .dataframe thead th {\n        text-align: right;\n    }\n</style>\n<table border=\"1\" class=\"dataframe\">\n  <thead>\n    <tr style=\"text-align: right;\">\n      <th></th>\n      <th>pred</th>\n    </tr>\n  </thead>\n  <tbody>\n    <tr>\n      <th>0</th>\n      <td>0</td>\n    </tr>\n    <tr>\n      <th>1</th>\n      <td>1</td>\n    </tr>\n    <tr>\n      <th>2</th>\n      <td>1</td>\n    </tr>\n    <tr>\n      <th>3</th>\n      <td>0</td>\n    </tr>\n    <tr>\n      <th>4</th>\n      <td>1</td>\n    </tr>\n  </tbody>\n</table>\n</div>"
     },
     "execution_count": 36,
     "metadata": {},
     "output_type": "execute_result"
    }
   ],
   "source": [
    "predictions"
   ],
   "metadata": {
    "collapsed": false,
    "ExecuteTime": {
     "end_time": "2023-09-12T13:55:26.527524500Z",
     "start_time": "2023-09-12T13:55:26.499331100Z"
    }
   },
   "id": "c316b7530e469e6f"
  },
  {
   "cell_type": "code",
   "execution_count": 37,
   "outputs": [
    {
     "data": {
      "text/plain": "       A     B  pred\n0  100.0  12.0   NaN\n1  200.0  13.0   NaN\n2  300.0  14.0   NaN\n3  400.0  15.0   NaN\n4  500.0  16.0   NaN\n0    NaN   NaN   0.0\n1    NaN   NaN   1.0\n2    NaN   NaN   1.0\n3    NaN   NaN   0.0\n4    NaN   NaN   1.0",
      "text/html": "<div>\n<style scoped>\n    .dataframe tbody tr th:only-of-type {\n        vertical-align: middle;\n    }\n\n    .dataframe tbody tr th {\n        vertical-align: top;\n    }\n\n    .dataframe thead th {\n        text-align: right;\n    }\n</style>\n<table border=\"1\" class=\"dataframe\">\n  <thead>\n    <tr style=\"text-align: right;\">\n      <th></th>\n      <th>A</th>\n      <th>B</th>\n      <th>pred</th>\n    </tr>\n  </thead>\n  <tbody>\n    <tr>\n      <th>0</th>\n      <td>100.0</td>\n      <td>12.0</td>\n      <td>NaN</td>\n    </tr>\n    <tr>\n      <th>1</th>\n      <td>200.0</td>\n      <td>13.0</td>\n      <td>NaN</td>\n    </tr>\n    <tr>\n      <th>2</th>\n      <td>300.0</td>\n      <td>14.0</td>\n      <td>NaN</td>\n    </tr>\n    <tr>\n      <th>3</th>\n      <td>400.0</td>\n      <td>15.0</td>\n      <td>NaN</td>\n    </tr>\n    <tr>\n      <th>4</th>\n      <td>500.0</td>\n      <td>16.0</td>\n      <td>NaN</td>\n    </tr>\n    <tr>\n      <th>0</th>\n      <td>NaN</td>\n      <td>NaN</td>\n      <td>0.0</td>\n    </tr>\n    <tr>\n      <th>1</th>\n      <td>NaN</td>\n      <td>NaN</td>\n      <td>1.0</td>\n    </tr>\n    <tr>\n      <th>2</th>\n      <td>NaN</td>\n      <td>NaN</td>\n      <td>1.0</td>\n    </tr>\n    <tr>\n      <th>3</th>\n      <td>NaN</td>\n      <td>NaN</td>\n      <td>0.0</td>\n    </tr>\n    <tr>\n      <th>4</th>\n      <td>NaN</td>\n      <td>NaN</td>\n      <td>1.0</td>\n    </tr>\n  </tbody>\n</table>\n</div>"
     },
     "execution_count": 37,
     "metadata": {},
     "output_type": "execute_result"
    }
   ],
   "source": [
    "pd.concat([features,predictions])"
   ],
   "metadata": {
    "collapsed": false,
    "ExecuteTime": {
     "end_time": "2023-09-12T13:55:41.547955700Z",
     "start_time": "2023-09-12T13:55:41.508851900Z"
    }
   },
   "id": "582440402a2ebb80"
  },
  {
   "cell_type": "code",
   "execution_count": 38,
   "outputs": [
    {
     "data": {
      "text/plain": "     A   B  pred\n0  100  12     0\n1  200  13     1\n2  300  14     1\n3  400  15     0\n4  500  16     1",
      "text/html": "<div>\n<style scoped>\n    .dataframe tbody tr th:only-of-type {\n        vertical-align: middle;\n    }\n\n    .dataframe tbody tr th {\n        vertical-align: top;\n    }\n\n    .dataframe thead th {\n        text-align: right;\n    }\n</style>\n<table border=\"1\" class=\"dataframe\">\n  <thead>\n    <tr style=\"text-align: right;\">\n      <th></th>\n      <th>A</th>\n      <th>B</th>\n      <th>pred</th>\n    </tr>\n  </thead>\n  <tbody>\n    <tr>\n      <th>0</th>\n      <td>100</td>\n      <td>12</td>\n      <td>0</td>\n    </tr>\n    <tr>\n      <th>1</th>\n      <td>200</td>\n      <td>13</td>\n      <td>1</td>\n    </tr>\n    <tr>\n      <th>2</th>\n      <td>300</td>\n      <td>14</td>\n      <td>1</td>\n    </tr>\n    <tr>\n      <th>3</th>\n      <td>400</td>\n      <td>15</td>\n      <td>0</td>\n    </tr>\n    <tr>\n      <th>4</th>\n      <td>500</td>\n      <td>16</td>\n      <td>1</td>\n    </tr>\n  </tbody>\n</table>\n</div>"
     },
     "execution_count": 38,
     "metadata": {},
     "output_type": "execute_result"
    }
   ],
   "source": [
    "pd.concat([features,predictions], axis=1)"
   ],
   "metadata": {
    "collapsed": false,
    "ExecuteTime": {
     "end_time": "2023-09-12T13:56:10.956523600Z",
     "start_time": "2023-09-12T13:56:10.917180900Z"
    }
   },
   "id": "abd7caf343dc89a1"
  },
  {
   "cell_type": "code",
   "execution_count": 39,
   "outputs": [
    {
     "data": {
      "text/plain": "  C1   C2  C3    C4 C5  C6\n0  A  100  NY  1000  N   1\n1  A  200  CA  2000  C   1\n2  B  300  WA  3000  W   2\n3  B  300  WA  3000  W   2\n4  C  400  AK  4000  A   3\n5  C  500  NV  5000  N   3",
      "text/html": "<div>\n<style scoped>\n    .dataframe tbody tr th:only-of-type {\n        vertical-align: middle;\n    }\n\n    .dataframe tbody tr th {\n        vertical-align: top;\n    }\n\n    .dataframe thead th {\n        text-align: right;\n    }\n</style>\n<table border=\"1\" class=\"dataframe\">\n  <thead>\n    <tr style=\"text-align: right;\">\n      <th></th>\n      <th>C1</th>\n      <th>C2</th>\n      <th>C3</th>\n      <th>C4</th>\n      <th>C5</th>\n      <th>C6</th>\n    </tr>\n  </thead>\n  <tbody>\n    <tr>\n      <th>0</th>\n      <td>A</td>\n      <td>100</td>\n      <td>NY</td>\n      <td>1000</td>\n      <td>N</td>\n      <td>1</td>\n    </tr>\n    <tr>\n      <th>1</th>\n      <td>A</td>\n      <td>200</td>\n      <td>CA</td>\n      <td>2000</td>\n      <td>C</td>\n      <td>1</td>\n    </tr>\n    <tr>\n      <th>2</th>\n      <td>B</td>\n      <td>300</td>\n      <td>WA</td>\n      <td>3000</td>\n      <td>W</td>\n      <td>2</td>\n    </tr>\n    <tr>\n      <th>3</th>\n      <td>B</td>\n      <td>300</td>\n      <td>WA</td>\n      <td>3000</td>\n      <td>W</td>\n      <td>2</td>\n    </tr>\n    <tr>\n      <th>4</th>\n      <td>C</td>\n      <td>400</td>\n      <td>AK</td>\n      <td>4000</td>\n      <td>A</td>\n      <td>3</td>\n    </tr>\n    <tr>\n      <th>5</th>\n      <td>C</td>\n      <td>500</td>\n      <td>NV</td>\n      <td>5000</td>\n      <td>N</td>\n      <td>3</td>\n    </tr>\n  </tbody>\n</table>\n</div>"
     },
     "execution_count": 39,
     "metadata": {},
     "output_type": "execute_result"
    }
   ],
   "source": [
    "df_one"
   ],
   "metadata": {
    "collapsed": false,
    "ExecuteTime": {
     "end_time": "2023-09-12T13:56:30.066235800Z",
     "start_time": "2023-09-12T13:56:30.030708200Z"
    }
   },
   "id": "98ffd82962b79e7b"
  },
  {
   "cell_type": "code",
   "execution_count": 40,
   "outputs": [
    {
     "data": {
      "text/plain": "0    A\n1    A\n2    B\n3    B\n4    C\n5    C\nName: C1, dtype: object"
     },
     "execution_count": 40,
     "metadata": {},
     "output_type": "execute_result"
    }
   ],
   "source": [
    "df_one['C1']"
   ],
   "metadata": {
    "collapsed": false,
    "ExecuteTime": {
     "end_time": "2023-09-12T13:56:45.940411700Z",
     "start_time": "2023-09-12T13:56:45.900373600Z"
    }
   },
   "id": "467f548791e74c01"
  },
  {
   "cell_type": "code",
   "execution_count": 41,
   "outputs": [
    {
     "data": {
      "text/plain": "   A  B  C\n0  1  0  0\n1  1  0  0\n2  0  1  0\n3  0  1  0\n4  0  0  1\n5  0  0  1",
      "text/html": "<div>\n<style scoped>\n    .dataframe tbody tr th:only-of-type {\n        vertical-align: middle;\n    }\n\n    .dataframe tbody tr th {\n        vertical-align: top;\n    }\n\n    .dataframe thead th {\n        text-align: right;\n    }\n</style>\n<table border=\"1\" class=\"dataframe\">\n  <thead>\n    <tr style=\"text-align: right;\">\n      <th></th>\n      <th>A</th>\n      <th>B</th>\n      <th>C</th>\n    </tr>\n  </thead>\n  <tbody>\n    <tr>\n      <th>0</th>\n      <td>1</td>\n      <td>0</td>\n      <td>0</td>\n    </tr>\n    <tr>\n      <th>1</th>\n      <td>1</td>\n      <td>0</td>\n      <td>0</td>\n    </tr>\n    <tr>\n      <th>2</th>\n      <td>0</td>\n      <td>1</td>\n      <td>0</td>\n    </tr>\n    <tr>\n      <th>3</th>\n      <td>0</td>\n      <td>1</td>\n      <td>0</td>\n    </tr>\n    <tr>\n      <th>4</th>\n      <td>0</td>\n      <td>0</td>\n      <td>1</td>\n    </tr>\n    <tr>\n      <th>5</th>\n      <td>0</td>\n      <td>0</td>\n      <td>1</td>\n    </tr>\n  </tbody>\n</table>\n</div>"
     },
     "execution_count": 41,
     "metadata": {},
     "output_type": "execute_result"
    }
   ],
   "source": [
    "pd.get_dummies(df_one['C1'])"
   ],
   "metadata": {
    "collapsed": false,
    "ExecuteTime": {
     "end_time": "2023-09-12T13:57:03.831065600Z",
     "start_time": "2023-09-12T13:57:03.796722Z"
    }
   },
   "id": "f180bb8e6aff97c8"
  },
  {
   "cell_type": "code",
   "execution_count": null,
   "outputs": [],
   "source": [],
   "metadata": {
    "collapsed": false
   },
   "id": "160ab26a0d358226"
  }
 ],
 "metadata": {
  "kernelspec": {
   "display_name": "Python 3",
   "language": "python",
   "name": "python3"
  },
  "language_info": {
   "codemirror_mode": {
    "name": "ipython",
    "version": 2
   },
   "file_extension": ".py",
   "mimetype": "text/x-python",
   "name": "python",
   "nbconvert_exporter": "python",
   "pygments_lexer": "ipython2",
   "version": "2.7.6"
  }
 },
 "nbformat": 4,
 "nbformat_minor": 5
}
