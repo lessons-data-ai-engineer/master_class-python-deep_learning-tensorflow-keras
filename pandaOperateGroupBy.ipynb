{
 "cells": [
  {
   "cell_type": "markdown",
   "source": [
    "SPLIT  Separation Application Combine \n",
    "Opérateur GroupBy"
   ],
   "metadata": {
    "collapsed": false
   },
   "id": "f38767b095415cc0"
  },
  {
   "cell_type": "code",
   "execution_count": 1,
   "id": "initial_id",
   "metadata": {
    "collapsed": true,
    "ExecuteTime": {
     "end_time": "2023-09-12T13:25:27.134922300Z",
     "start_time": "2023-09-12T13:25:26.626079200Z"
    }
   },
   "outputs": [],
   "source": [
    "import pandas as pd"
   ]
  },
  {
   "cell_type": "code",
   "execution_count": 2,
   "outputs": [],
   "source": [
    "df = pd.read_csv('resources/DATA/Universities.csv')"
   ],
   "metadata": {
    "collapsed": false,
    "ExecuteTime": {
     "end_time": "2023-09-12T13:29:04.015374400Z",
     "start_time": "2023-09-12T13:29:03.987459Z"
    }
   },
   "id": "8bd3f7495887fbfa"
  },
  {
   "cell_type": "markdown",
   "source": [
    "head() : Afficher les 5 première lignes par défault"
   ],
   "metadata": {
    "collapsed": false
   },
   "id": "df11bc37bb339543"
  },
  {
   "cell_type": "code",
   "execution_count": 3,
   "outputs": [
    {
     "data": {
      "text/plain": "                                 Sector  \\\n0            Private for-profit, 2-year   \n1  Private for-profit, less-than 2-year   \n2  Private for-profit, less-than 2-year   \n3  Private for-profit, less-than 2-year   \n4               Public, 4-year or above   \n\n                              University  Year  Completions Geography  \n0       Pima Medical Institute-Las Vegas  2016          591    Nevada  \n1       Healthcare Preparatory Institute  2016           28    Nevada  \n2              Milan Institute-Las Vegas  2016          408    Nevada  \n3  Utah College of Massage Therapy-Vegas  2016          240    Nevada  \n4                 Western Nevada College  2016          960    Nevada  ",
      "text/html": "<div>\n<style scoped>\n    .dataframe tbody tr th:only-of-type {\n        vertical-align: middle;\n    }\n\n    .dataframe tbody tr th {\n        vertical-align: top;\n    }\n\n    .dataframe thead th {\n        text-align: right;\n    }\n</style>\n<table border=\"1\" class=\"dataframe\">\n  <thead>\n    <tr style=\"text-align: right;\">\n      <th></th>\n      <th>Sector</th>\n      <th>University</th>\n      <th>Year</th>\n      <th>Completions</th>\n      <th>Geography</th>\n    </tr>\n  </thead>\n  <tbody>\n    <tr>\n      <th>0</th>\n      <td>Private for-profit, 2-year</td>\n      <td>Pima Medical Institute-Las Vegas</td>\n      <td>2016</td>\n      <td>591</td>\n      <td>Nevada</td>\n    </tr>\n    <tr>\n      <th>1</th>\n      <td>Private for-profit, less-than 2-year</td>\n      <td>Healthcare Preparatory Institute</td>\n      <td>2016</td>\n      <td>28</td>\n      <td>Nevada</td>\n    </tr>\n    <tr>\n      <th>2</th>\n      <td>Private for-profit, less-than 2-year</td>\n      <td>Milan Institute-Las Vegas</td>\n      <td>2016</td>\n      <td>408</td>\n      <td>Nevada</td>\n    </tr>\n    <tr>\n      <th>3</th>\n      <td>Private for-profit, less-than 2-year</td>\n      <td>Utah College of Massage Therapy-Vegas</td>\n      <td>2016</td>\n      <td>240</td>\n      <td>Nevada</td>\n    </tr>\n    <tr>\n      <th>4</th>\n      <td>Public, 4-year or above</td>\n      <td>Western Nevada College</td>\n      <td>2016</td>\n      <td>960</td>\n      <td>Nevada</td>\n    </tr>\n  </tbody>\n</table>\n</div>"
     },
     "execution_count": 3,
     "metadata": {},
     "output_type": "execute_result"
    }
   ],
   "source": [
    "df.head()"
   ],
   "metadata": {
    "collapsed": false,
    "ExecuteTime": {
     "end_time": "2023-09-12T13:29:17.462875600Z",
     "start_time": "2023-09-12T13:29:17.444733700Z"
    }
   },
   "id": "85a36eceafb14f74"
  },
  {
   "cell_type": "code",
   "execution_count": 5,
   "outputs": [
    {
     "name": "stderr",
     "output_type": "stream",
     "text": [
      "C:\\Users\\antoi\\AppData\\Local\\Temp\\ipykernel_30364\\3275216858.py:1: FutureWarning: The default value of numeric_only in DataFrameGroupBy.sum is deprecated. In a future version, numeric_only will default to False. Either specify numeric_only or select only columns which should be valid for the function.\n",
      "  df.groupby('Year').sum()\n"
     ]
    },
    {
     "data": {
      "text/plain": "      Completions\nYear             \n2012        20333\n2013        21046\n2014        24730\n2015        26279\n2016        26224",
      "text/html": "<div>\n<style scoped>\n    .dataframe tbody tr th:only-of-type {\n        vertical-align: middle;\n    }\n\n    .dataframe tbody tr th {\n        vertical-align: top;\n    }\n\n    .dataframe thead th {\n        text-align: right;\n    }\n</style>\n<table border=\"1\" class=\"dataframe\">\n  <thead>\n    <tr style=\"text-align: right;\">\n      <th></th>\n      <th>Completions</th>\n    </tr>\n    <tr>\n      <th>Year</th>\n      <th></th>\n    </tr>\n  </thead>\n  <tbody>\n    <tr>\n      <th>2012</th>\n      <td>20333</td>\n    </tr>\n    <tr>\n      <th>2013</th>\n      <td>21046</td>\n    </tr>\n    <tr>\n      <th>2014</th>\n      <td>24730</td>\n    </tr>\n    <tr>\n      <th>2015</th>\n      <td>26279</td>\n    </tr>\n    <tr>\n      <th>2016</th>\n      <td>26224</td>\n    </tr>\n  </tbody>\n</table>\n</div>"
     },
     "execution_count": 5,
     "metadata": {},
     "output_type": "execute_result"
    }
   ],
   "source": [
    "df.groupby('Year').sum()"
   ],
   "metadata": {
    "collapsed": false,
    "ExecuteTime": {
     "end_time": "2023-09-12T13:31:06.158409Z",
     "start_time": "2023-09-12T13:31:06.145895Z"
    }
   },
   "id": "32e61c0a058676ee"
  },
  {
   "cell_type": "code",
   "execution_count": 9,
   "outputs": [
    {
     "name": "stderr",
     "output_type": "stream",
     "text": [
      "C:\\Users\\antoi\\AppData\\Local\\Temp\\ipykernel_30364\\3563470975.py:1: FutureWarning: The default value of numeric_only in DataFrameGroupBy.sum is deprecated. In a future version, numeric_only will default to False. Either specify numeric_only or select only columns which should be valid for the function.\n",
      "  type(df.groupby('Year').sum())\n"
     ]
    },
    {
     "data": {
      "text/plain": "pandas.core.frame.DataFrame"
     },
     "execution_count": 9,
     "metadata": {},
     "output_type": "execute_result"
    }
   ],
   "source": [
    "type(df.groupby('Year').sum())"
   ],
   "metadata": {
    "collapsed": false,
    "ExecuteTime": {
     "end_time": "2023-09-12T13:34:37.288861400Z",
     "start_time": "2023-09-12T13:34:37.252404Z"
    }
   },
   "id": "321e6c3e0b3ec4f8"
  },
  {
   "cell_type": "markdown",
   "source": [
    "Autre opérateurs d'agrégations"
   ],
   "metadata": {
    "collapsed": false
   },
   "id": "429f93069009e75c"
  },
  {
   "cell_type": "markdown",
   "source": [
    "<table><td><tt\n",
    "><span\n",
    ">count</span></tt></td><td>Nombre d'observations non null</td></tr><tr\n",
    "><td><tt\n",
    "><span\n",
    ">sum</span></tt></td><td>Somme des valeurs</td></tr><tr\n",
    "><td><tt\n",
    "><span\n",
    ">mean</span></tt></td><td>Moyenne des valeurs</td></tr><tr\n",
    "><td><tt\n",
    "><span\n",
    ">mad</span></tt></td><td>Écart moyen absolu</td></tr><tr\n",
    "><td><tt\n",
    "><span\n",
    ">median</span></tt></td><td>Médiane arithmétique des valeurs</td></tr><tr\n",
    "><td><tt\n",
    "><span\n",
    ">min</span></tt></td><td>Minimum</td></tr><tr\n",
    "><td><tt\n",
    "><span\n",
    ">max</span></tt></td><td>Maximum</td></tr><tr\n",
    "><td><tt\n",
    "><span\n",
    ">mode</span></tt></td><td>Mode</td></tr><tr\n",
    "><td><tt\n",
    "><span\n",
    ">abs</span></tt></td><td>Valeur absolue</td></tr><tr\n",
    "><td><tt\n",
    "><span\n",
    ">prod</span></tt></td><td>Produit des valeurs</td></tr><tr\n",
    "><td><tt\n",
    "><span\n",
    ">std</span></tt></td><td>Écart type non biaisé</td></tr><tr\n",
    "><td><tt\n",
    "><span\n",
    ">var</span></tt></td><td>Variance non biaisée</td></tr><tr\n",
    "><td><tt\n",
    "><span\n",
    ">sem</span></tt></td><td>Erreur standard de la moyenne non biaisée</td></tr><tr\n",
    "><td><tt\n",
    "><span\n",
    ">skew</span></tt></td><td>Asymétrie non biaisée (3e moment)</td></tr><tr\n",
    "><td><tt\n",
    "><span\n",
    ">kurt</span></tt></td><td>Kurtosis non biaisé (4ème moment)</td></tr><tr\n",
    "><td><tt\n",
    "><span\n",
    ">quantile</span></tt></td><td>Quantile de l'échantillon (valeur en %)</td></tr><tr\n",
    "><td><tt\n",
    "><span\n",
    ">cumsum</span></tt></td><td>Somme cumulative</td></tr><tr\n",
    "><td><tt\n",
    "><span\n",
    ">cumprod</span></tt></td><td>Produit cumulé</td></tr><tr\n",
    "><td><tt\n",
    "><span\n",
    ">cummax</span></tt></td><td>Maximum cumulé</td></tr><tr\n",
    "><td><tt\n",
    "><span\n",
    ">cummin</span></tt></td><td>Minimum cumulé</td></tr></tbody></table>"
   ],
   "metadata": {
    "collapsed": false
   },
   "id": "938ff76608fb5ec0"
  },
  {
   "cell_type": "code",
   "execution_count": 10,
   "outputs": [
    {
     "name": "stderr",
     "output_type": "stream",
     "text": [
      "C:\\Users\\antoi\\AppData\\Local\\Temp\\ipykernel_30364\\77611243.py:1: FutureWarning: The default value of numeric_only in DataFrameGroupBy.sum is deprecated. In a future version, numeric_only will default to False. Either specify numeric_only or select only columns which should be valid for the function.\n",
      "  df.groupby('Year').sum().sort_index(ascending=False)\n"
     ]
    },
    {
     "data": {
      "text/plain": "      Completions\nYear             \n2016        26224\n2015        26279\n2014        24730\n2013        21046\n2012        20333",
      "text/html": "<div>\n<style scoped>\n    .dataframe tbody tr th:only-of-type {\n        vertical-align: middle;\n    }\n\n    .dataframe tbody tr th {\n        vertical-align: top;\n    }\n\n    .dataframe thead th {\n        text-align: right;\n    }\n</style>\n<table border=\"1\" class=\"dataframe\">\n  <thead>\n    <tr style=\"text-align: right;\">\n      <th></th>\n      <th>Completions</th>\n    </tr>\n    <tr>\n      <th>Year</th>\n      <th></th>\n    </tr>\n  </thead>\n  <tbody>\n    <tr>\n      <th>2016</th>\n      <td>26224</td>\n    </tr>\n    <tr>\n      <th>2015</th>\n      <td>26279</td>\n    </tr>\n    <tr>\n      <th>2014</th>\n      <td>24730</td>\n    </tr>\n    <tr>\n      <th>2013</th>\n      <td>21046</td>\n    </tr>\n    <tr>\n      <th>2012</th>\n      <td>20333</td>\n    </tr>\n  </tbody>\n</table>\n</div>"
     },
     "execution_count": 10,
     "metadata": {},
     "output_type": "execute_result"
    }
   ],
   "source": [
    "df.groupby('Year').sum().sort_index(ascending=False)"
   ],
   "metadata": {
    "collapsed": false,
    "ExecuteTime": {
     "end_time": "2023-09-12T13:35:55.797122400Z",
     "start_time": "2023-09-12T13:35:55.778684300Z"
    }
   },
   "id": "1aa5715c812f4f97"
  },
  {
   "cell_type": "code",
   "execution_count": 12,
   "outputs": [
    {
     "name": "stderr",
     "output_type": "stream",
     "text": [
      "C:\\Users\\antoi\\AppData\\Local\\Temp\\ipykernel_30364\\3513747183.py:1: FutureWarning: The default value of numeric_only in DataFrameGroupBy.sum is deprecated. In a future version, numeric_only will default to False. Either specify numeric_only or select only columns which should be valid for the function.\n",
      "  df.groupby(['Year', 'Sector']).sum()\n"
     ]
    },
    {
     "data": {
      "text/plain": "                                              Completions\nYear Sector                                              \n2012 Private for-profit, 2-year                      3072\n     Private for-profit, 4-year or above              632\n     Private for-profit, less-than 2-year            1327\n     Private not-for-profit, 2-year                   665\n     Private not-for-profit, 4-year or above         1059\n     Public, 2-year                                  1170\n     Public, 4-year or above                        12408\n2013 Private for-profit, 2-year                      3053\n     Private for-profit, 4-year or above              775\n     Private for-profit, less-than 2-year            1281\n     Private not-for-profit, 2-year                   471\n     Private not-for-profit, 4-year or above         1016\n     Public, 2-year                                  1633\n     Public, 4-year or above                        12817\n2014 Private for-profit, 2-year                      2957\n     Private for-profit, 4-year or above             1506\n     Private for-profit, less-than 2-year            1328\n     Private not-for-profit, 2-year                   449\n     Private not-for-profit, 4-year or above         1042\n     Public, 2-year                                  2286\n     Public, 4-year or above                        15162\n2015 Private for-profit, 2-year                      3280\n     Private for-profit, 4-year or above             1306\n     Private for-profit, less-than 2-year            1629\n     Private not-for-profit, 2-year                   425\n     Private not-for-profit, 4-year or above         1228\n     Public, 2-year                                  2355\n     Public, 4-year or above                        16056\n2016 Private for-profit, 2-year                      3286\n     Private for-profit, 4-year or above              748\n     Private for-profit, less-than 2-year            1552\n     Private not-for-profit, 2-year                   322\n     Private not-for-profit, 4-year or above         1208\n     Public, 2-year                                  2431\n     Public, 4-year or above                        16677",
      "text/html": "<div>\n<style scoped>\n    .dataframe tbody tr th:only-of-type {\n        vertical-align: middle;\n    }\n\n    .dataframe tbody tr th {\n        vertical-align: top;\n    }\n\n    .dataframe thead th {\n        text-align: right;\n    }\n</style>\n<table border=\"1\" class=\"dataframe\">\n  <thead>\n    <tr style=\"text-align: right;\">\n      <th></th>\n      <th></th>\n      <th>Completions</th>\n    </tr>\n    <tr>\n      <th>Year</th>\n      <th>Sector</th>\n      <th></th>\n    </tr>\n  </thead>\n  <tbody>\n    <tr>\n      <th rowspan=\"7\" valign=\"top\">2012</th>\n      <th>Private for-profit, 2-year</th>\n      <td>3072</td>\n    </tr>\n    <tr>\n      <th>Private for-profit, 4-year or above</th>\n      <td>632</td>\n    </tr>\n    <tr>\n      <th>Private for-profit, less-than 2-year</th>\n      <td>1327</td>\n    </tr>\n    <tr>\n      <th>Private not-for-profit, 2-year</th>\n      <td>665</td>\n    </tr>\n    <tr>\n      <th>Private not-for-profit, 4-year or above</th>\n      <td>1059</td>\n    </tr>\n    <tr>\n      <th>Public, 2-year</th>\n      <td>1170</td>\n    </tr>\n    <tr>\n      <th>Public, 4-year or above</th>\n      <td>12408</td>\n    </tr>\n    <tr>\n      <th rowspan=\"7\" valign=\"top\">2013</th>\n      <th>Private for-profit, 2-year</th>\n      <td>3053</td>\n    </tr>\n    <tr>\n      <th>Private for-profit, 4-year or above</th>\n      <td>775</td>\n    </tr>\n    <tr>\n      <th>Private for-profit, less-than 2-year</th>\n      <td>1281</td>\n    </tr>\n    <tr>\n      <th>Private not-for-profit, 2-year</th>\n      <td>471</td>\n    </tr>\n    <tr>\n      <th>Private not-for-profit, 4-year or above</th>\n      <td>1016</td>\n    </tr>\n    <tr>\n      <th>Public, 2-year</th>\n      <td>1633</td>\n    </tr>\n    <tr>\n      <th>Public, 4-year or above</th>\n      <td>12817</td>\n    </tr>\n    <tr>\n      <th rowspan=\"7\" valign=\"top\">2014</th>\n      <th>Private for-profit, 2-year</th>\n      <td>2957</td>\n    </tr>\n    <tr>\n      <th>Private for-profit, 4-year or above</th>\n      <td>1506</td>\n    </tr>\n    <tr>\n      <th>Private for-profit, less-than 2-year</th>\n      <td>1328</td>\n    </tr>\n    <tr>\n      <th>Private not-for-profit, 2-year</th>\n      <td>449</td>\n    </tr>\n    <tr>\n      <th>Private not-for-profit, 4-year or above</th>\n      <td>1042</td>\n    </tr>\n    <tr>\n      <th>Public, 2-year</th>\n      <td>2286</td>\n    </tr>\n    <tr>\n      <th>Public, 4-year or above</th>\n      <td>15162</td>\n    </tr>\n    <tr>\n      <th rowspan=\"7\" valign=\"top\">2015</th>\n      <th>Private for-profit, 2-year</th>\n      <td>3280</td>\n    </tr>\n    <tr>\n      <th>Private for-profit, 4-year or above</th>\n      <td>1306</td>\n    </tr>\n    <tr>\n      <th>Private for-profit, less-than 2-year</th>\n      <td>1629</td>\n    </tr>\n    <tr>\n      <th>Private not-for-profit, 2-year</th>\n      <td>425</td>\n    </tr>\n    <tr>\n      <th>Private not-for-profit, 4-year or above</th>\n      <td>1228</td>\n    </tr>\n    <tr>\n      <th>Public, 2-year</th>\n      <td>2355</td>\n    </tr>\n    <tr>\n      <th>Public, 4-year or above</th>\n      <td>16056</td>\n    </tr>\n    <tr>\n      <th rowspan=\"7\" valign=\"top\">2016</th>\n      <th>Private for-profit, 2-year</th>\n      <td>3286</td>\n    </tr>\n    <tr>\n      <th>Private for-profit, 4-year or above</th>\n      <td>748</td>\n    </tr>\n    <tr>\n      <th>Private for-profit, less-than 2-year</th>\n      <td>1552</td>\n    </tr>\n    <tr>\n      <th>Private not-for-profit, 2-year</th>\n      <td>322</td>\n    </tr>\n    <tr>\n      <th>Private not-for-profit, 4-year or above</th>\n      <td>1208</td>\n    </tr>\n    <tr>\n      <th>Public, 2-year</th>\n      <td>2431</td>\n    </tr>\n    <tr>\n      <th>Public, 4-year or above</th>\n      <td>16677</td>\n    </tr>\n  </tbody>\n</table>\n</div>"
     },
     "execution_count": 12,
     "metadata": {},
     "output_type": "execute_result"
    }
   ],
   "source": [
    "df.groupby(['Year', 'Sector']).sum()"
   ],
   "metadata": {
    "collapsed": false,
    "ExecuteTime": {
     "end_time": "2023-09-12T13:36:48.378688400Z",
     "start_time": "2023-09-12T13:36:48.363170500Z"
    }
   },
   "id": "5081406b32af02b1"
  },
  {
   "cell_type": "code",
   "execution_count": 13,
   "outputs": [
    {
     "data": {
      "text/plain": "     Completions                                                              \n           count        mean          std   min     25%    50%     75%     max\nYear                                                                          \n2012        38.0  535.078947  1036.433239  13.0  114.25  229.5  420.50  5388.0\n2013        40.0  526.150000  1040.474782   0.0   98.50  189.0  413.00  5278.0\n2014        42.0  588.809524  1150.355857   0.0  104.50  203.5  371.75  5093.0\n2015        44.0  597.250000  1183.371791   0.0   87.75  191.0  405.75  5335.0\n2016        43.0  609.860465  1235.952796   0.0   90.00  208.0  414.00  5367.0",
      "text/html": "<div>\n<style scoped>\n    .dataframe tbody tr th:only-of-type {\n        vertical-align: middle;\n    }\n\n    .dataframe tbody tr th {\n        vertical-align: top;\n    }\n\n    .dataframe thead tr th {\n        text-align: left;\n    }\n\n    .dataframe thead tr:last-of-type th {\n        text-align: right;\n    }\n</style>\n<table border=\"1\" class=\"dataframe\">\n  <thead>\n    <tr>\n      <th></th>\n      <th colspan=\"8\" halign=\"left\">Completions</th>\n    </tr>\n    <tr>\n      <th></th>\n      <th>count</th>\n      <th>mean</th>\n      <th>std</th>\n      <th>min</th>\n      <th>25%</th>\n      <th>50%</th>\n      <th>75%</th>\n      <th>max</th>\n    </tr>\n    <tr>\n      <th>Year</th>\n      <th></th>\n      <th></th>\n      <th></th>\n      <th></th>\n      <th></th>\n      <th></th>\n      <th></th>\n      <th></th>\n    </tr>\n  </thead>\n  <tbody>\n    <tr>\n      <th>2012</th>\n      <td>38.0</td>\n      <td>535.078947</td>\n      <td>1036.433239</td>\n      <td>13.0</td>\n      <td>114.25</td>\n      <td>229.5</td>\n      <td>420.50</td>\n      <td>5388.0</td>\n    </tr>\n    <tr>\n      <th>2013</th>\n      <td>40.0</td>\n      <td>526.150000</td>\n      <td>1040.474782</td>\n      <td>0.0</td>\n      <td>98.50</td>\n      <td>189.0</td>\n      <td>413.00</td>\n      <td>5278.0</td>\n    </tr>\n    <tr>\n      <th>2014</th>\n      <td>42.0</td>\n      <td>588.809524</td>\n      <td>1150.355857</td>\n      <td>0.0</td>\n      <td>104.50</td>\n      <td>203.5</td>\n      <td>371.75</td>\n      <td>5093.0</td>\n    </tr>\n    <tr>\n      <th>2015</th>\n      <td>44.0</td>\n      <td>597.250000</td>\n      <td>1183.371791</td>\n      <td>0.0</td>\n      <td>87.75</td>\n      <td>191.0</td>\n      <td>405.75</td>\n      <td>5335.0</td>\n    </tr>\n    <tr>\n      <th>2016</th>\n      <td>43.0</td>\n      <td>609.860465</td>\n      <td>1235.952796</td>\n      <td>0.0</td>\n      <td>90.00</td>\n      <td>208.0</td>\n      <td>414.00</td>\n      <td>5367.0</td>\n    </tr>\n  </tbody>\n</table>\n</div>"
     },
     "execution_count": 13,
     "metadata": {},
     "output_type": "execute_result"
    }
   ],
   "source": [
    "df.groupby('Year').describe()"
   ],
   "metadata": {
    "collapsed": false,
    "ExecuteTime": {
     "end_time": "2023-09-12T13:37:38.763421300Z",
     "start_time": "2023-09-12T13:37:38.730111Z"
    }
   },
   "id": "ff3254bdc3eb791f"
  },
  {
   "cell_type": "code",
   "execution_count": 14,
   "outputs": [
    {
     "data": {
      "text/plain": "Year                      2012         2013         2014         2015  \\\nCompletions count    38.000000    40.000000    42.000000    44.000000   \n            mean    535.078947   526.150000   588.809524   597.250000   \n            std    1036.433239  1040.474782  1150.355857  1183.371791   \n            min      13.000000     0.000000     0.000000     0.000000   \n            25%     114.250000    98.500000   104.500000    87.750000   \n            50%     229.500000   189.000000   203.500000   191.000000   \n            75%     420.500000   413.000000   371.750000   405.750000   \n            max    5388.000000  5278.000000  5093.000000  5335.000000   \n\nYear                      2016  \nCompletions count    43.000000  \n            mean    609.860465  \n            std    1235.952796  \n            min       0.000000  \n            25%      90.000000  \n            50%     208.000000  \n            75%     414.000000  \n            max    5367.000000  ",
      "text/html": "<div>\n<style scoped>\n    .dataframe tbody tr th:only-of-type {\n        vertical-align: middle;\n    }\n\n    .dataframe tbody tr th {\n        vertical-align: top;\n    }\n\n    .dataframe thead th {\n        text-align: right;\n    }\n</style>\n<table border=\"1\" class=\"dataframe\">\n  <thead>\n    <tr style=\"text-align: right;\">\n      <th></th>\n      <th>Year</th>\n      <th>2012</th>\n      <th>2013</th>\n      <th>2014</th>\n      <th>2015</th>\n      <th>2016</th>\n    </tr>\n  </thead>\n  <tbody>\n    <tr>\n      <th rowspan=\"8\" valign=\"top\">Completions</th>\n      <th>count</th>\n      <td>38.000000</td>\n      <td>40.000000</td>\n      <td>42.000000</td>\n      <td>44.000000</td>\n      <td>43.000000</td>\n    </tr>\n    <tr>\n      <th>mean</th>\n      <td>535.078947</td>\n      <td>526.150000</td>\n      <td>588.809524</td>\n      <td>597.250000</td>\n      <td>609.860465</td>\n    </tr>\n    <tr>\n      <th>std</th>\n      <td>1036.433239</td>\n      <td>1040.474782</td>\n      <td>1150.355857</td>\n      <td>1183.371791</td>\n      <td>1235.952796</td>\n    </tr>\n    <tr>\n      <th>min</th>\n      <td>13.000000</td>\n      <td>0.000000</td>\n      <td>0.000000</td>\n      <td>0.000000</td>\n      <td>0.000000</td>\n    </tr>\n    <tr>\n      <th>25%</th>\n      <td>114.250000</td>\n      <td>98.500000</td>\n      <td>104.500000</td>\n      <td>87.750000</td>\n      <td>90.000000</td>\n    </tr>\n    <tr>\n      <th>50%</th>\n      <td>229.500000</td>\n      <td>189.000000</td>\n      <td>203.500000</td>\n      <td>191.000000</td>\n      <td>208.000000</td>\n    </tr>\n    <tr>\n      <th>75%</th>\n      <td>420.500000</td>\n      <td>413.000000</td>\n      <td>371.750000</td>\n      <td>405.750000</td>\n      <td>414.000000</td>\n    </tr>\n    <tr>\n      <th>max</th>\n      <td>5388.000000</td>\n      <td>5278.000000</td>\n      <td>5093.000000</td>\n      <td>5335.000000</td>\n      <td>5367.000000</td>\n    </tr>\n  </tbody>\n</table>\n</div>"
     },
     "execution_count": 14,
     "metadata": {},
     "output_type": "execute_result"
    }
   ],
   "source": [
    "df.groupby('Year').describe().transpose()"
   ],
   "metadata": {
    "collapsed": false,
    "ExecuteTime": {
     "end_time": "2023-09-12T13:38:12.416321Z",
     "start_time": "2023-09-12T13:38:12.370131400Z"
    }
   },
   "id": "4b5c88723a0eada5"
  },
  {
   "cell_type": "code",
   "execution_count": null,
   "outputs": [],
   "source": [],
   "metadata": {
    "collapsed": false
   },
   "id": "257d4eba69a26248"
  }
 ],
 "metadata": {
  "kernelspec": {
   "display_name": "Python 3",
   "language": "python",
   "name": "python3"
  },
  "language_info": {
   "codemirror_mode": {
    "name": "ipython",
    "version": 2
   },
   "file_extension": ".py",
   "mimetype": "text/x-python",
   "name": "python",
   "nbconvert_exporter": "python",
   "pygments_lexer": "ipython2",
   "version": "2.7.6"
  }
 },
 "nbformat": 4,
 "nbformat_minor": 5
}
