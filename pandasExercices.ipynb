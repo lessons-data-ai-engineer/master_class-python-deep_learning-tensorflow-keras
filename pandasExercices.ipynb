{
 "nbformat": 4,
 "nbformat_minor": 0,
 "metadata": {
  "colab": {
   "name": "07-Exercices-Pandas.ipynb",
   "provenance": [
    {
     "file_id": "1AFluJTpr_5C2FBrB7Tc_BG6WtQJVoj3U",
     "timestamp": 1591633918235
    }
   ],
   "authorship_tag": "ABX9TyOxPx37xHXCj/4ttY5SFMVv"
  },
  "kernelspec": {
   "name": "python3",
   "language": "python",
   "display_name": "Python 3 (ipykernel)"
  }
 },
 "cells": [
  {
   "cell_type": "markdown",
   "source": [
    "<a href='http://moncoachdata.com'><img src= 'https://moncoachdata.com/wp-content/uploads/MonCoachData-cours/MonCoachData.jpg' width=400/></a>\n",
    "\n",
    "\n",
    "---\n",
    "\n",
    "\n",
    "\n",
    "<center><em>Pour plus d'informations, visitez notre site <a href='http://moncoachdata.com'>moncoachdata.com</a></em></center>\n",
    "<center><em>et rejoignez-nous sur <a href='https://app.moncoachdata.com/discord'>Discord</a> et <a href='https://app.moncoachdata.com/youtube'>YouTube</a></em></center>\n",
    "\n",
    "\n",
    "\n",
    "---"
   ],
   "metadata": {
    "id": "OZ5dnchaNncl"
   }
  },
  {
   "cell_type": "markdown",
   "metadata": {
    "id": "LnaKkR9qHyez"
   },
   "source": [
    "# Exercices Pandas\n",
    "\n",
    "**Source des données : https://www.kaggle.com/chirin/africa-economic-banking-and-systemic-crisis-data**\n",
    "\n",
    "\n",
    "Cet ensemble de données est un dérivé de l'ensemble de données de Reinhart et. al sur la stabilité financière mondiale (Global Financial Stability), qui peut être consulté en ligne à l'adresse suivante : https://www.hbs.edu/behavioral-finance-and-financial-stability/data/Pages/global.aspx\n",
    "\n",
    "Cet ensemble de données sera précieux pour ceux qui cherchent à comprendre la dynamique de la stabilité financière dans le contexte africain.\n",
    "\n",
    "Contenu :\n",
    "L'ensemble de données se concentre spécifiquement sur les crises bancaire, financière, de la dette, de l'inflation et systémique qui ont eu lieu, de 1860 à 2014, dans 13 pays africains, y compris : Algérie, Angola, République centrafricaine, Côte d'Ivoire, Égypte, Kenya, Maurice, Maroc, Nigeria, Afrique du Sud, Tunisie, Zambie et Zimbabwe.\n",
    "\n",
    "\n",
    "\n",
    "* *caseA* : numéro qui indique un pays spécifique\n",
    "* *cc3A* : code pays à trois lettres\n",
    "* *country* : Le nom du pays\n",
    "* *year* : L'année de l'observation\n",
    "* *systemic_crisis* : \"0\" signifie qu'aucune crise systémique ne s'est produite dans l'année et \"1\" signifie qu'une crise systémique s'est produite dans l'année.\n",
    "* *exchange_usd* : Le taux de change du pays par rapport au dollar\n",
    "* *domestic_debt_in_default* : 0\" signifie qu'aucun défaut de la dette intérieure souveraine n'est survenu au cours de l'année et \"1\" signifie qu'un défaut de la dette intérieure souveraine est survenu au cours de l'année\n",
    "* *sovereign_external_debt_default* : \"0\" signifie qu'aucun défaut de la dette extérieure souveraine n'est survenu au cours de l'année et \"1\" signifie qu'un défaut de la dette extérieure souveraine est survenu au cours de l'année\n",
    "* *gdp_weighted_default* : La dette totale en défaut par rapport au PIB\n",
    "* *inflation_annual_cpi* : Le CPI - Taux d'inflation annuel (Indice des Prix à la Consommation - IPC)\n",
    "* *independence* : \"0\" signifie \"pas d'indépendance\" et \"1\" signifie \"indépendance\"\n",
    "* *currency_crises* : \"0\" signifie qu'aucune crise monétaire ne s'est produite au cours de l'année et \"1\" signifie qu'une crise monétaire s'est produite au cours de l'année\n",
    "* *inflation_crises* : \"0\" signifie qu'aucune crise d'inflation ne s'est produite au cours de l'année et \"1\" signifie qu'une crise d'inflation s'est produite au cours de l'année\n",
    "* *banking_crisis* : \"no_crisis\" signifie qu'aucune crise bancaire ne s'est produite dans l'année et \"crisis\" signifie qu'une crise bancaire s'est produite dans l'année"
   ]
  },
  {
   "cell_type": "markdown",
   "metadata": {
    "id": "Ga6zV-38Jk5g"
   },
   "source": [
    "---\n",
    "---\n",
    "***Il existe de très nombreuses solutions possibles à ces questions ! Inutile de poser la question de savoir si votre solution est acceptable si elle est différente de la correction. Tant que vous avez la bonne réponse, c'est correct !***\n",
    "\n",
    "---\n",
    "---\n",
    "### Accomplissez les tâches ci-dessous\n",
    "---"
   ]
  },
  {
   "cell_type": "markdown",
   "metadata": {
    "id": "gLJc855zKP3f"
   },
   "source": [
    "#### Importer Pandas"
   ]
  },
  {
   "cell_type": "code",
   "metadata": {
    "id": "3TOpoYovHZYb",
    "ExecuteTime": {
     "end_time": "2023-09-12T14:54:14.199704500Z",
     "start_time": "2023-09-12T14:54:13.624482200Z"
    }
   },
   "source": [
    "import pandas as pd"
   ],
   "execution_count": 2,
   "outputs": []
  },
  {
   "cell_type": "markdown",
   "metadata": {
    "id": "kU8tzkkyKhfe"
   },
   "source": [
    "#### Lire le fichier 'african_econ_crises.csv'\n",
    "Il se trouve sous le dossier 01-Pandas ou DATA. Faites bien attention à l'endroit où se trouve le fichier .csv ! Si vous n'arrivez pas à le trouver ou à le lire, exécuter le notebook Solutions."
   ]
  },
  {
   "cell_type": "code",
   "metadata": {
    "id": "R_UAz7xdKddN",
    "ExecuteTime": {
     "end_time": "2023-09-12T14:54:16.126580100Z",
     "start_time": "2023-09-12T14:54:16.096966700Z"
    }
   },
   "source": [
    "df = pd.read_csv('resources/DATA/african_econ_crises.csv')"
   ],
   "execution_count": 3,
   "outputs": []
  },
  {
   "cell_type": "markdown",
   "metadata": {
    "id": "nGoq8YoUunRi"
   },
   "source": [
    "#### Afficher les 5 premières lignes de l'ensemble de données"
   ]
  },
  {
   "cell_type": "code",
   "metadata": {
    "id": "_oqi4OdmtmlY",
    "ExecuteTime": {
     "end_time": "2023-09-12T14:56:08.401493700Z",
     "start_time": "2023-09-12T14:56:08.352493900Z"
    }
   },
   "source": [
    "df.head()"
   ],
   "execution_count": 5,
   "outputs": [
    {
     "data": {
      "text/plain": "   case  cc3  country  year  systemic_crisis  exch_usd  \\\n0     1  DZA  Algeria  1870                1  0.052264   \n1     1  DZA  Algeria  1871                0  0.052798   \n2     1  DZA  Algeria  1872                0  0.052274   \n3     1  DZA  Algeria  1873                0  0.051680   \n4     1  DZA  Algeria  1874                0  0.051308   \n\n   domestic_debt_in_default  sovereign_external_debt_default  \\\n0                         0                                0   \n1                         0                                0   \n2                         0                                0   \n3                         0                                0   \n4                         0                                0   \n\n   gdp_weighted_default  inflation_annual_cpi  independence  currency_crises  \\\n0                   0.0              3.441456             0                0   \n1                   0.0             14.149140             0                0   \n2                   0.0             -3.718593             0                0   \n3                   0.0             11.203897             0                0   \n4                   0.0             -3.848561             0                0   \n\n   inflation_crises banking_crisis  \n0                 0         crisis  \n1                 0      no_crisis  \n2                 0      no_crisis  \n3                 0      no_crisis  \n4                 0      no_crisis  ",
      "text/html": "<div>\n<style scoped>\n    .dataframe tbody tr th:only-of-type {\n        vertical-align: middle;\n    }\n\n    .dataframe tbody tr th {\n        vertical-align: top;\n    }\n\n    .dataframe thead th {\n        text-align: right;\n    }\n</style>\n<table border=\"1\" class=\"dataframe\">\n  <thead>\n    <tr style=\"text-align: right;\">\n      <th></th>\n      <th>case</th>\n      <th>cc3</th>\n      <th>country</th>\n      <th>year</th>\n      <th>systemic_crisis</th>\n      <th>exch_usd</th>\n      <th>domestic_debt_in_default</th>\n      <th>sovereign_external_debt_default</th>\n      <th>gdp_weighted_default</th>\n      <th>inflation_annual_cpi</th>\n      <th>independence</th>\n      <th>currency_crises</th>\n      <th>inflation_crises</th>\n      <th>banking_crisis</th>\n    </tr>\n  </thead>\n  <tbody>\n    <tr>\n      <th>0</th>\n      <td>1</td>\n      <td>DZA</td>\n      <td>Algeria</td>\n      <td>1870</td>\n      <td>1</td>\n      <td>0.052264</td>\n      <td>0</td>\n      <td>0</td>\n      <td>0.0</td>\n      <td>3.441456</td>\n      <td>0</td>\n      <td>0</td>\n      <td>0</td>\n      <td>crisis</td>\n    </tr>\n    <tr>\n      <th>1</th>\n      <td>1</td>\n      <td>DZA</td>\n      <td>Algeria</td>\n      <td>1871</td>\n      <td>0</td>\n      <td>0.052798</td>\n      <td>0</td>\n      <td>0</td>\n      <td>0.0</td>\n      <td>14.149140</td>\n      <td>0</td>\n      <td>0</td>\n      <td>0</td>\n      <td>no_crisis</td>\n    </tr>\n    <tr>\n      <th>2</th>\n      <td>1</td>\n      <td>DZA</td>\n      <td>Algeria</td>\n      <td>1872</td>\n      <td>0</td>\n      <td>0.052274</td>\n      <td>0</td>\n      <td>0</td>\n      <td>0.0</td>\n      <td>-3.718593</td>\n      <td>0</td>\n      <td>0</td>\n      <td>0</td>\n      <td>no_crisis</td>\n    </tr>\n    <tr>\n      <th>3</th>\n      <td>1</td>\n      <td>DZA</td>\n      <td>Algeria</td>\n      <td>1873</td>\n      <td>0</td>\n      <td>0.051680</td>\n      <td>0</td>\n      <td>0</td>\n      <td>0.0</td>\n      <td>11.203897</td>\n      <td>0</td>\n      <td>0</td>\n      <td>0</td>\n      <td>no_crisis</td>\n    </tr>\n    <tr>\n      <th>4</th>\n      <td>1</td>\n      <td>DZA</td>\n      <td>Algeria</td>\n      <td>1874</td>\n      <td>0</td>\n      <td>0.051308</td>\n      <td>0</td>\n      <td>0</td>\n      <td>0.0</td>\n      <td>-3.848561</td>\n      <td>0</td>\n      <td>0</td>\n      <td>0</td>\n      <td>no_crisis</td>\n    </tr>\n  </tbody>\n</table>\n</div>"
     },
     "execution_count": 5,
     "metadata": {},
     "output_type": "execute_result"
    }
   ]
  },
  {
   "cell_type": "code",
   "metadata": {
    "id": "yVwv9DSEu3hQ",
    "colab": {
     "base_uri": "https://localhost:8080/",
     "height": 218
    },
    "executionInfo": {
     "status": "ok",
     "timestamp": 1591633220575,
     "user_tz": -120,
     "elapsed": 773,
     "user": {
      "displayName": "Rod Paris",
      "photoUrl": "",
      "userId": "10535238717210992784"
     }
    },
    "outputId": "9fa88c6c-df1b-4dbb-d36a-eaebf8cf8d66"
   },
   "source": [
    "# Ne rien écrire ici"
   ],
   "execution_count": null,
   "outputs": [
    {
     "output_type": "execute_result",
     "data": {
      "text/html": [
       "<div>\n",
       "<style scoped>\n",
       "    .dataframe tbody tr th:only-of-type {\n",
       "        vertical-align: middle;\n",
       "    }\n",
       "\n",
       "    .dataframe tbody tr th {\n",
       "        vertical-align: top;\n",
       "    }\n",
       "\n",
       "    .dataframe thead th {\n",
       "        text-align: right;\n",
       "    }\n",
       "</style>\n",
       "<table border=\"1\" class=\"dataframe\">\n",
       "  <thead>\n",
       "    <tr style=\"text-align: right;\">\n",
       "      <th></th>\n",
       "      <th>case</th>\n",
       "      <th>cc3</th>\n",
       "      <th>country</th>\n",
       "      <th>year</th>\n",
       "      <th>systemic_crisis</th>\n",
       "      <th>exch_usd</th>\n",
       "      <th>domestic_debt_in_default</th>\n",
       "      <th>sovereign_external_debt_default</th>\n",
       "      <th>gdp_weighted_default</th>\n",
       "      <th>inflation_annual_cpi</th>\n",
       "      <th>independence</th>\n",
       "      <th>currency_crises</th>\n",
       "      <th>inflation_crises</th>\n",
       "      <th>banking_crisis</th>\n",
       "    </tr>\n",
       "  </thead>\n",
       "  <tbody>\n",
       "    <tr>\n",
       "      <th>0</th>\n",
       "      <td>1</td>\n",
       "      <td>DZA</td>\n",
       "      <td>Algeria</td>\n",
       "      <td>1870</td>\n",
       "      <td>1</td>\n",
       "      <td>0.052264</td>\n",
       "      <td>0</td>\n",
       "      <td>0</td>\n",
       "      <td>0.0</td>\n",
       "      <td>3.441456</td>\n",
       "      <td>0</td>\n",
       "      <td>0</td>\n",
       "      <td>0</td>\n",
       "      <td>crisis</td>\n",
       "    </tr>\n",
       "    <tr>\n",
       "      <th>1</th>\n",
       "      <td>1</td>\n",
       "      <td>DZA</td>\n",
       "      <td>Algeria</td>\n",
       "      <td>1871</td>\n",
       "      <td>0</td>\n",
       "      <td>0.052798</td>\n",
       "      <td>0</td>\n",
       "      <td>0</td>\n",
       "      <td>0.0</td>\n",
       "      <td>14.149140</td>\n",
       "      <td>0</td>\n",
       "      <td>0</td>\n",
       "      <td>0</td>\n",
       "      <td>no_crisis</td>\n",
       "    </tr>\n",
       "    <tr>\n",
       "      <th>2</th>\n",
       "      <td>1</td>\n",
       "      <td>DZA</td>\n",
       "      <td>Algeria</td>\n",
       "      <td>1872</td>\n",
       "      <td>0</td>\n",
       "      <td>0.052274</td>\n",
       "      <td>0</td>\n",
       "      <td>0</td>\n",
       "      <td>0.0</td>\n",
       "      <td>-3.718593</td>\n",
       "      <td>0</td>\n",
       "      <td>0</td>\n",
       "      <td>0</td>\n",
       "      <td>no_crisis</td>\n",
       "    </tr>\n",
       "    <tr>\n",
       "      <th>3</th>\n",
       "      <td>1</td>\n",
       "      <td>DZA</td>\n",
       "      <td>Algeria</td>\n",
       "      <td>1873</td>\n",
       "      <td>0</td>\n",
       "      <td>0.051680</td>\n",
       "      <td>0</td>\n",
       "      <td>0</td>\n",
       "      <td>0.0</td>\n",
       "      <td>11.203897</td>\n",
       "      <td>0</td>\n",
       "      <td>0</td>\n",
       "      <td>0</td>\n",
       "      <td>no_crisis</td>\n",
       "    </tr>\n",
       "    <tr>\n",
       "      <th>4</th>\n",
       "      <td>1</td>\n",
       "      <td>DZA</td>\n",
       "      <td>Algeria</td>\n",
       "      <td>1874</td>\n",
       "      <td>0</td>\n",
       "      <td>0.051308</td>\n",
       "      <td>0</td>\n",
       "      <td>0</td>\n",
       "      <td>0.0</td>\n",
       "      <td>-3.848561</td>\n",
       "      <td>0</td>\n",
       "      <td>0</td>\n",
       "      <td>0</td>\n",
       "      <td>no_crisis</td>\n",
       "    </tr>\n",
       "  </tbody>\n",
       "</table>\n",
       "</div>"
      ],
      "text/plain": [
       "   case  cc3  country  ...  currency_crises  inflation_crises  banking_crisis\n",
       "0     1  DZA  Algeria  ...                0                 0          crisis\n",
       "1     1  DZA  Algeria  ...                0                 0       no_crisis\n",
       "2     1  DZA  Algeria  ...                0                 0       no_crisis\n",
       "3     1  DZA  Algeria  ...                0                 0       no_crisis\n",
       "4     1  DZA  Algeria  ...                0                 0       no_crisis\n",
       "\n",
       "[5 rows x 14 columns]"
      ]
     },
     "metadata": {
      "tags": []
     },
     "execution_count": 8
    }
   ]
  },
  {
   "cell_type": "markdown",
   "metadata": {
    "id": "eiXZL2DXu9BW"
   },
   "source": [
    "#### Combien de pays sont représentés dans cet ensemble de données ?"
   ]
  },
  {
   "cell_type": "code",
   "metadata": {
    "id": "5g5rHb8Vu5Cm",
    "ExecuteTime": {
     "end_time": "2023-09-12T14:56:50.170146Z",
     "start_time": "2023-09-12T14:56:50.152115200Z"
    }
   },
   "source": [
    "df['country'].nunique()"
   ],
   "execution_count": 6,
   "outputs": [
    {
     "data": {
      "text/plain": "13"
     },
     "execution_count": 6,
     "metadata": {},
     "output_type": "execute_result"
    }
   ]
  },
  {
   "cell_type": "code",
   "metadata": {
    "id": "kxRjWOMiv1IZ",
    "colab": {
     "base_uri": "https://localhost:8080/",
     "height": 35
    },
    "executionInfo": {
     "status": "ok",
     "timestamp": 1591633473016,
     "user_tz": -120,
     "elapsed": 784,
     "user": {
      "displayName": "Rod Paris",
      "photoUrl": "",
      "userId": "10535238717210992784"
     }
    },
    "outputId": "dc5a4e47-798d-4572-85f7-443f30b18ee5"
   },
   "source": [],
   "execution_count": null,
   "outputs": [
    {
     "output_type": "execute_result",
     "data": {
      "text/plain": [
       "13"
      ]
     },
     "metadata": {
      "tags": []
     },
     "execution_count": 10
    }
   ]
  },
  {
   "cell_type": "markdown",
   "metadata": {
    "id": "qOBNolvMv6Ef"
   },
   "source": [
    "#### Quels sont les pays représentés dans cet ensemble de données ?"
   ]
  },
  {
   "cell_type": "code",
   "metadata": {
    "id": "FclPfJR1v2qq",
    "ExecuteTime": {
     "end_time": "2023-09-12T14:57:10.610542600Z",
     "start_time": "2023-09-12T14:57:10.592342300Z"
    }
   },
   "source": [
    "df['country'].unique()"
   ],
   "execution_count": 7,
   "outputs": [
    {
     "data": {
      "text/plain": "array(['Algeria', 'Angola', 'Central African Republic', 'Ivory Coast',\n       'Egypt', 'Kenya', 'Mauritius', 'Morocco', 'Nigeria',\n       'South Africa', 'Tunisia', 'Zambia', 'Zimbabwe'], dtype=object)"
     },
     "execution_count": 7,
     "metadata": {},
     "output_type": "execute_result"
    }
   ]
  },
  {
   "cell_type": "code",
   "metadata": {
    "id": "R2DB2TuMv8sr",
    "colab": {
     "base_uri": "https://localhost:8080/",
     "height": 69
    },
    "executionInfo": {
     "status": "ok",
     "timestamp": 1591633506007,
     "user_tz": -120,
     "elapsed": 982,
     "user": {
      "displayName": "Rod Paris",
      "photoUrl": "",
      "userId": "10535238717210992784"
     }
    },
    "outputId": "773e6682-772c-4699-e711-03e2234f0751"
   },
   "source": [],
   "execution_count": null,
   "outputs": [
    {
     "output_type": "execute_result",
     "data": {
      "text/plain": [
       "array(['Algeria', 'Angola', 'Central African Republic', 'Ivory Coast',\n",
       "       'Egypt', 'Kenya', 'Mauritius', 'Morocco', 'Nigeria',\n",
       "       'South Africa', 'Tunisia', 'Zambia', 'Zimbabwe'], dtype=object)"
      ]
     },
     "metadata": {
      "tags": []
     },
     "execution_count": 12
    }
   ]
  },
  {
   "cell_type": "markdown",
   "metadata": {
    "id": "rMvVeL05wXlc"
   },
   "source": [
    "#### Quel est le pays dont le taux d'inflation annuel (CPI) est le plus élevé ? Quel était le taux d'inflation ?"
   ]
  },
  {
   "cell_type": "code",
   "metadata": {
    "id": "KBqsOy2Bv-rE",
    "ExecuteTime": {
     "end_time": "2023-09-12T15:04:09.175545200Z",
     "start_time": "2023-09-12T15:04:09.161401100Z"
    }
   },
   "source": [
    "df.sort_values('inflation_annual_cpi', ascending=False).head(1)['country']"
   ],
   "execution_count": 20,
   "outputs": [
    {
     "data": {
      "text/plain": "1053    Zimbabwe\nName: country, dtype: object"
     },
     "execution_count": 20,
     "metadata": {},
     "output_type": "execute_result"
    }
   ]
  },
  {
   "cell_type": "code",
   "metadata": {
    "id": "Nl-jzp7pweNH",
    "colab": {
     "base_uri": "https://localhost:8080/",
     "height": 98
    },
    "executionInfo": {
     "status": "ok",
     "timestamp": 1591633639875,
     "user_tz": -120,
     "elapsed": 785,
     "user": {
      "displayName": "Rod Paris",
      "photoUrl": "",
      "userId": "10535238717210992784"
     }
    },
    "outputId": "c4186c46-c898-4c91-c592-16243bd94a10",
    "ExecuteTime": {
     "end_time": "2023-09-12T15:04:18.827902700Z",
     "start_time": "2023-09-12T15:04:18.809044Z"
    }
   },
   "source": [
    "df.sort_values('inflation_annual_cpi', ascending=False).head(1)['inflation_annual_cpi']"
   ],
   "execution_count": 22,
   "outputs": [
    {
     "data": {
      "text/plain": "1053    21989695.22\nName: inflation_annual_cpi, dtype: float64"
     },
     "execution_count": 22,
     "metadata": {},
     "output_type": "execute_result"
    }
   ]
  },
  {
   "cell_type": "markdown",
   "metadata": {
    "id": "ugJfG70cwj8Z"
   },
   "source": [
    "#### En quelle année le Kenya a-t-il connu sa première crise systémique ?"
   ]
  },
  {
   "cell_type": "code",
   "metadata": {
    "id": "WW7RqWYPwfTZ",
    "ExecuteTime": {
     "end_time": "2023-09-12T15:07:01.655514500Z",
     "start_time": "2023-09-12T15:07:01.635003100Z"
    }
   },
   "source": [
    "df[(df['country'] == 'Kenya') & (df['systemic_crisis'] == 1)].sort_values('year').iloc[0]['year']"
   ],
   "execution_count": 24,
   "outputs": [
    {
     "data": {
      "text/plain": "1985"
     },
     "execution_count": 24,
     "metadata": {},
     "output_type": "execute_result"
    }
   ]
  },
  {
   "cell_type": "code",
   "metadata": {
    "id": "JAoqbzXGwnuh",
    "colab": {
     "base_uri": "https://localhost:8080/",
     "height": 458
    },
    "executionInfo": {
     "status": "ok",
     "timestamp": 1591633711737,
     "user_tz": -120,
     "elapsed": 751,
     "user": {
      "displayName": "Rod Paris",
      "photoUrl": "",
      "userId": "10535238717210992784"
     }
    },
    "outputId": "fd80071b-984b-4ff1-c741-933febacb57f"
   },
   "source": [],
   "execution_count": null,
   "outputs": [
    {
     "output_type": "execute_result",
     "data": {
      "text/html": [
       "<div>\n",
       "<style scoped>\n",
       "    .dataframe tbody tr th:only-of-type {\n",
       "        vertical-align: middle;\n",
       "    }\n",
       "\n",
       "    .dataframe tbody tr th {\n",
       "        vertical-align: top;\n",
       "    }\n",
       "\n",
       "    .dataframe thead th {\n",
       "        text-align: right;\n",
       "    }\n",
       "</style>\n",
       "<table border=\"1\" class=\"dataframe\">\n",
       "  <thead>\n",
       "    <tr style=\"text-align: right;\">\n",
       "      <th></th>\n",
       "      <th>case</th>\n",
       "      <th>cc3</th>\n",
       "      <th>country</th>\n",
       "      <th>year</th>\n",
       "      <th>systemic_crisis</th>\n",
       "      <th>exch_usd</th>\n",
       "      <th>domestic_debt_in_default</th>\n",
       "      <th>sovereign_external_debt_default</th>\n",
       "      <th>gdp_weighted_default</th>\n",
       "      <th>inflation_annual_cpi</th>\n",
       "      <th>independence</th>\n",
       "      <th>currency_crises</th>\n",
       "      <th>inflation_crises</th>\n",
       "      <th>banking_crisis</th>\n",
       "    </tr>\n",
       "  </thead>\n",
       "  <tbody>\n",
       "    <tr>\n",
       "      <th>475</th>\n",
       "      <td>35</td>\n",
       "      <td>KEN</td>\n",
       "      <td>Kenya</td>\n",
       "      <td>1985</td>\n",
       "      <td>1</td>\n",
       "      <td>16.2843</td>\n",
       "      <td>0</td>\n",
       "      <td>0</td>\n",
       "      <td>0.0</td>\n",
       "      <td>11.398</td>\n",
       "      <td>1</td>\n",
       "      <td>0</td>\n",
       "      <td>0</td>\n",
       "      <td>crisis</td>\n",
       "    </tr>\n",
       "    <tr>\n",
       "      <th>476</th>\n",
       "      <td>35</td>\n",
       "      <td>KEN</td>\n",
       "      <td>Kenya</td>\n",
       "      <td>1986</td>\n",
       "      <td>1</td>\n",
       "      <td>16.0422</td>\n",
       "      <td>0</td>\n",
       "      <td>0</td>\n",
       "      <td>0.0</td>\n",
       "      <td>10.284</td>\n",
       "      <td>1</td>\n",
       "      <td>0</td>\n",
       "      <td>0</td>\n",
       "      <td>crisis</td>\n",
       "    </tr>\n",
       "    <tr>\n",
       "      <th>477</th>\n",
       "      <td>35</td>\n",
       "      <td>KEN</td>\n",
       "      <td>Kenya</td>\n",
       "      <td>1987</td>\n",
       "      <td>1</td>\n",
       "      <td>16.5149</td>\n",
       "      <td>0</td>\n",
       "      <td>0</td>\n",
       "      <td>0.0</td>\n",
       "      <td>13.007</td>\n",
       "      <td>1</td>\n",
       "      <td>0</td>\n",
       "      <td>0</td>\n",
       "      <td>crisis</td>\n",
       "    </tr>\n",
       "    <tr>\n",
       "      <th>478</th>\n",
       "      <td>35</td>\n",
       "      <td>KEN</td>\n",
       "      <td>Kenya</td>\n",
       "      <td>1988</td>\n",
       "      <td>1</td>\n",
       "      <td>18.5994</td>\n",
       "      <td>0</td>\n",
       "      <td>0</td>\n",
       "      <td>0.0</td>\n",
       "      <td>4.804</td>\n",
       "      <td>1</td>\n",
       "      <td>0</td>\n",
       "      <td>0</td>\n",
       "      <td>crisis</td>\n",
       "    </tr>\n",
       "    <tr>\n",
       "      <th>479</th>\n",
       "      <td>35</td>\n",
       "      <td>KEN</td>\n",
       "      <td>Kenya</td>\n",
       "      <td>1989</td>\n",
       "      <td>1</td>\n",
       "      <td>21.6010</td>\n",
       "      <td>0</td>\n",
       "      <td>0</td>\n",
       "      <td>0.0</td>\n",
       "      <td>7.617</td>\n",
       "      <td>1</td>\n",
       "      <td>1</td>\n",
       "      <td>0</td>\n",
       "      <td>no_crisis</td>\n",
       "    </tr>\n",
       "    <tr>\n",
       "      <th>482</th>\n",
       "      <td>35</td>\n",
       "      <td>KEN</td>\n",
       "      <td>Kenya</td>\n",
       "      <td>1992</td>\n",
       "      <td>1</td>\n",
       "      <td>36.2163</td>\n",
       "      <td>0</td>\n",
       "      <td>0</td>\n",
       "      <td>0.0</td>\n",
       "      <td>27.332</td>\n",
       "      <td>1</td>\n",
       "      <td>1</td>\n",
       "      <td>1</td>\n",
       "      <td>crisis</td>\n",
       "    </tr>\n",
       "    <tr>\n",
       "      <th>483</th>\n",
       "      <td>35</td>\n",
       "      <td>KEN</td>\n",
       "      <td>Kenya</td>\n",
       "      <td>1993</td>\n",
       "      <td>1</td>\n",
       "      <td>68.1631</td>\n",
       "      <td>0</td>\n",
       "      <td>0</td>\n",
       "      <td>0.0</td>\n",
       "      <td>45.979</td>\n",
       "      <td>1</td>\n",
       "      <td>1</td>\n",
       "      <td>1</td>\n",
       "      <td>crisis</td>\n",
       "    </tr>\n",
       "    <tr>\n",
       "      <th>484</th>\n",
       "      <td>35</td>\n",
       "      <td>KEN</td>\n",
       "      <td>Kenya</td>\n",
       "      <td>1994</td>\n",
       "      <td>1</td>\n",
       "      <td>44.8389</td>\n",
       "      <td>0</td>\n",
       "      <td>1</td>\n",
       "      <td>0.0</td>\n",
       "      <td>28.814</td>\n",
       "      <td>1</td>\n",
       "      <td>0</td>\n",
       "      <td>1</td>\n",
       "      <td>crisis</td>\n",
       "    </tr>\n",
       "    <tr>\n",
       "      <th>485</th>\n",
       "      <td>35</td>\n",
       "      <td>KEN</td>\n",
       "      <td>Kenya</td>\n",
       "      <td>1995</td>\n",
       "      <td>1</td>\n",
       "      <td>55.9389</td>\n",
       "      <td>0</td>\n",
       "      <td>1</td>\n",
       "      <td>0.0</td>\n",
       "      <td>1.554</td>\n",
       "      <td>1</td>\n",
       "      <td>0</td>\n",
       "      <td>0</td>\n",
       "      <td>crisis</td>\n",
       "    </tr>\n",
       "    <tr>\n",
       "      <th>486</th>\n",
       "      <td>35</td>\n",
       "      <td>KEN</td>\n",
       "      <td>Kenya</td>\n",
       "      <td>1996</td>\n",
       "      <td>1</td>\n",
       "      <td>55.0211</td>\n",
       "      <td>0</td>\n",
       "      <td>1</td>\n",
       "      <td>0.0</td>\n",
       "      <td>8.862</td>\n",
       "      <td>1</td>\n",
       "      <td>0</td>\n",
       "      <td>0</td>\n",
       "      <td>no_crisis</td>\n",
       "    </tr>\n",
       "    <tr>\n",
       "      <th>487</th>\n",
       "      <td>35</td>\n",
       "      <td>KEN</td>\n",
       "      <td>Kenya</td>\n",
       "      <td>1997</td>\n",
       "      <td>1</td>\n",
       "      <td>62.6778</td>\n",
       "      <td>0</td>\n",
       "      <td>1</td>\n",
       "      <td>0.0</td>\n",
       "      <td>11.924</td>\n",
       "      <td>1</td>\n",
       "      <td>0</td>\n",
       "      <td>0</td>\n",
       "      <td>no_crisis</td>\n",
       "    </tr>\n",
       "    <tr>\n",
       "      <th>488</th>\n",
       "      <td>35</td>\n",
       "      <td>KEN</td>\n",
       "      <td>Kenya</td>\n",
       "      <td>1998</td>\n",
       "      <td>1</td>\n",
       "      <td>61.9056</td>\n",
       "      <td>0</td>\n",
       "      <td>1</td>\n",
       "      <td>0.0</td>\n",
       "      <td>6.716</td>\n",
       "      <td>1</td>\n",
       "      <td>0</td>\n",
       "      <td>0</td>\n",
       "      <td>no_crisis</td>\n",
       "    </tr>\n",
       "    <tr>\n",
       "      <th>489</th>\n",
       "      <td>35</td>\n",
       "      <td>KEN</td>\n",
       "      <td>Kenya</td>\n",
       "      <td>1999</td>\n",
       "      <td>1</td>\n",
       "      <td>72.9306</td>\n",
       "      <td>0</td>\n",
       "      <td>0</td>\n",
       "      <td>0.0</td>\n",
       "      <td>5.753</td>\n",
       "      <td>1</td>\n",
       "      <td>1</td>\n",
       "      <td>0</td>\n",
       "      <td>no_crisis</td>\n",
       "    </tr>\n",
       "  </tbody>\n",
       "</table>\n",
       "</div>"
      ],
      "text/plain": [
       "     case  cc3 country  ...  currency_crises  inflation_crises  banking_crisis\n",
       "475    35  KEN   Kenya  ...                0                 0          crisis\n",
       "476    35  KEN   Kenya  ...                0                 0          crisis\n",
       "477    35  KEN   Kenya  ...                0                 0          crisis\n",
       "478    35  KEN   Kenya  ...                0                 0          crisis\n",
       "479    35  KEN   Kenya  ...                1                 0       no_crisis\n",
       "482    35  KEN   Kenya  ...                1                 1          crisis\n",
       "483    35  KEN   Kenya  ...                1                 1          crisis\n",
       "484    35  KEN   Kenya  ...                0                 1          crisis\n",
       "485    35  KEN   Kenya  ...                0                 0          crisis\n",
       "486    35  KEN   Kenya  ...                0                 0       no_crisis\n",
       "487    35  KEN   Kenya  ...                0                 0       no_crisis\n",
       "488    35  KEN   Kenya  ...                0                 0       no_crisis\n",
       "489    35  KEN   Kenya  ...                1                 0       no_crisis\n",
       "\n",
       "[13 rows x 14 columns]"
      ]
     },
     "metadata": {
      "tags": []
     },
     "execution_count": 20
    }
   ]
  },
  {
   "cell_type": "markdown",
   "metadata": {
    "id": "ybp3GIPlw16D"
   },
   "source": [
    "#### Combien de crises systémiques annuelles ont eu lieu dans chaque pays ?"
   ]
  },
  {
   "cell_type": "code",
   "metadata": {
    "id": "ge_8cX5hwpqR",
    "ExecuteTime": {
     "end_time": "2023-09-12T15:08:45.258463800Z",
     "start_time": "2023-09-12T15:08:45.241954800Z"
    }
   },
   "source": [
    "crisis = df[df['systemic_crisis']==1]"
   ],
   "execution_count": 25,
   "outputs": []
  },
  {
   "cell_type": "code",
   "metadata": {
    "id": "83Qshcx-w4lJ",
    "colab": {
     "base_uri": "https://localhost:8080/",
     "height": 225
    },
    "executionInfo": {
     "status": "ok",
     "timestamp": 1591633788555,
     "user_tz": -120,
     "elapsed": 810,
     "user": {
      "displayName": "Rod Paris",
      "photoUrl": "",
      "userId": "10535238717210992784"
     }
    },
    "outputId": "ce20da6f-b22a-41f0-a9c3-bbefddf4a2f0",
    "ExecuteTime": {
     "end_time": "2023-09-12T15:09:56.453404400Z",
     "start_time": "2023-09-12T15:09:56.416629300Z"
    }
   },
   "source": [
    "crisis.groupby('country').count()['systemic_crisis']"
   ],
   "execution_count": 27,
   "outputs": [
    {
     "data": {
      "text/plain": "country\nAlgeria                      4\nCentral African Republic    19\nEgypt                        6\nIvory Coast                  4\nKenya                       13\nMorocco                      2\nNigeria                     10\nTunisia                      5\nZambia                       4\nZimbabwe                    15\nName: systemic_crisis, dtype: int64"
     },
     "execution_count": 27,
     "metadata": {},
     "output_type": "execute_result"
    }
   ]
  },
  {
   "cell_type": "markdown",
   "metadata": {
    "id": "QayRym7wxHAU"
   },
   "source": [
    "#### Pendant combien d'années le Zimbabwe a-t-il connu un défaut de paiement de sa dette extérieure souveraine ?"
   ]
  },
  {
   "cell_type": "code",
   "metadata": {
    "id": "qxuZkjCIw--W",
    "ExecuteTime": {
     "end_time": "2023-09-12T15:11:32.869743700Z",
     "start_time": "2023-09-12T15:11:32.849708200Z"
    }
   },
   "source": [
    "len(df[(df['country'] == 'Zimbabwe') & (df['sovereign_external_debt_default']==1)])"
   ],
   "execution_count": 29,
   "outputs": [
    {
     "data": {
      "text/plain": "30"
     },
     "execution_count": 29,
     "metadata": {},
     "output_type": "execute_result"
    }
   ]
  },
  {
   "cell_type": "code",
   "metadata": {
    "id": "u9P7Xt0-xKMQ",
    "colab": {
     "base_uri": "https://localhost:8080/",
     "height": 35
    },
    "executionInfo": {
     "status": "ok",
     "timestamp": 1591633828649,
     "user_tz": -120,
     "elapsed": 525,
     "user": {
      "displayName": "Rod Paris",
      "photoUrl": "",
      "userId": "10535238717210992784"
     }
    },
    "outputId": "c3fd64c5-7f76-41a1-ea2f-e6b267cdf724"
   },
   "source": [],
   "execution_count": null,
   "outputs": [
    {
     "output_type": "execute_result",
     "data": {
      "text/plain": [
       "30"
      ]
     },
     "metadata": {
      "tags": []
     },
     "execution_count": 26
    }
   ]
  },
  {
   "cell_type": "markdown",
   "metadata": {
    "id": "Us8OEHt7xSuL"
   },
   "source": [
    "#### En quelle année l'Algérie a-t-elle eu son taux de change le plus élevé ?"
   ]
  },
  {
   "cell_type": "code",
   "metadata": {
    "id": "pHXG_SAtxNjP",
    "ExecuteTime": {
     "end_time": "2023-09-12T15:14:11.114109500Z",
     "start_time": "2023-09-12T15:14:11.089896300Z"
    }
   },
   "source": [
    "df[(df['country'] == 'Algeria')].sort_values('exch_usd', ascending=False).head(1)"
   ],
   "execution_count": 33,
   "outputs": [
    {
     "data": {
      "text/plain": "    case  cc3  country  year  systemic_crisis   exch_usd  \\\n84     1  DZA  Algeria  2014                0  87.970698   \n\n    domestic_debt_in_default  sovereign_external_debt_default  \\\n84                         0                                0   \n\n    gdp_weighted_default  inflation_annual_cpi  independence  currency_crises  \\\n84                   0.0                 2.917             1                0   \n\n    inflation_crises banking_crisis  \n84                 0      no_crisis  ",
      "text/html": "<div>\n<style scoped>\n    .dataframe tbody tr th:only-of-type {\n        vertical-align: middle;\n    }\n\n    .dataframe tbody tr th {\n        vertical-align: top;\n    }\n\n    .dataframe thead th {\n        text-align: right;\n    }\n</style>\n<table border=\"1\" class=\"dataframe\">\n  <thead>\n    <tr style=\"text-align: right;\">\n      <th></th>\n      <th>case</th>\n      <th>cc3</th>\n      <th>country</th>\n      <th>year</th>\n      <th>systemic_crisis</th>\n      <th>exch_usd</th>\n      <th>domestic_debt_in_default</th>\n      <th>sovereign_external_debt_default</th>\n      <th>gdp_weighted_default</th>\n      <th>inflation_annual_cpi</th>\n      <th>independence</th>\n      <th>currency_crises</th>\n      <th>inflation_crises</th>\n      <th>banking_crisis</th>\n    </tr>\n  </thead>\n  <tbody>\n    <tr>\n      <th>84</th>\n      <td>1</td>\n      <td>DZA</td>\n      <td>Algeria</td>\n      <td>2014</td>\n      <td>0</td>\n      <td>87.970698</td>\n      <td>0</td>\n      <td>0</td>\n      <td>0.0</td>\n      <td>2.917</td>\n      <td>1</td>\n      <td>0</td>\n      <td>0</td>\n      <td>no_crisis</td>\n    </tr>\n  </tbody>\n</table>\n</div>"
     },
     "execution_count": 33,
     "metadata": {},
     "output_type": "execute_result"
    }
   ]
  },
  {
   "cell_type": "code",
   "metadata": {
    "id": "Doa9oIH8xWUL",
    "colab": {
     "base_uri": "https://localhost:8080/",
     "height": 98
    },
    "executionInfo": {
     "status": "ok",
     "timestamp": 1591633866967,
     "user_tz": -120,
     "elapsed": 877,
     "user": {
      "displayName": "Rod Paris",
      "photoUrl": "",
      "userId": "10535238717210992784"
     }
    },
    "outputId": "8e9e45f1-122d-4262-8383-71e627cc207a"
   },
   "source": [],
   "execution_count": null,
   "outputs": [
    {
     "output_type": "execute_result",
     "data": {
      "text/html": [
       "<div>\n",
       "<style scoped>\n",
       "    .dataframe tbody tr th:only-of-type {\n",
       "        vertical-align: middle;\n",
       "    }\n",
       "\n",
       "    .dataframe tbody tr th {\n",
       "        vertical-align: top;\n",
       "    }\n",
       "\n",
       "    .dataframe thead th {\n",
       "        text-align: right;\n",
       "    }\n",
       "</style>\n",
       "<table border=\"1\" class=\"dataframe\">\n",
       "  <thead>\n",
       "    <tr style=\"text-align: right;\">\n",
       "      <th></th>\n",
       "      <th>case</th>\n",
       "      <th>cc3</th>\n",
       "      <th>country</th>\n",
       "      <th>year</th>\n",
       "      <th>systemic_crisis</th>\n",
       "      <th>exch_usd</th>\n",
       "      <th>domestic_debt_in_default</th>\n",
       "      <th>sovereign_external_debt_default</th>\n",
       "      <th>gdp_weighted_default</th>\n",
       "      <th>inflation_annual_cpi</th>\n",
       "      <th>independence</th>\n",
       "      <th>currency_crises</th>\n",
       "      <th>inflation_crises</th>\n",
       "      <th>banking_crisis</th>\n",
       "    </tr>\n",
       "  </thead>\n",
       "  <tbody>\n",
       "    <tr>\n",
       "      <th>84</th>\n",
       "      <td>1</td>\n",
       "      <td>DZA</td>\n",
       "      <td>Algeria</td>\n",
       "      <td>2014</td>\n",
       "      <td>0</td>\n",
       "      <td>87.970698</td>\n",
       "      <td>0</td>\n",
       "      <td>0</td>\n",
       "      <td>0.0</td>\n",
       "      <td>2.917</td>\n",
       "      <td>1</td>\n",
       "      <td>0</td>\n",
       "      <td>0</td>\n",
       "      <td>no_crisis</td>\n",
       "    </tr>\n",
       "  </tbody>\n",
       "</table>\n",
       "</div>"
      ],
      "text/plain": [
       "    case  cc3  country  ...  currency_crises  inflation_crises  banking_crisis\n",
       "84     1  DZA  Algeria  ...                0                 0       no_crisis\n",
       "\n",
       "[1 rows x 14 columns]"
      ]
     },
     "metadata": {
      "tags": []
     },
     "execution_count": 28
    }
   ]
  }
 ]
}
